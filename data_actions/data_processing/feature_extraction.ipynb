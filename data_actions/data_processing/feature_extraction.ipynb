{
 "cells": [
  {
   "cell_type": "code",
   "execution_count": 1,
   "metadata": {},
   "outputs": [],
   "source": [
    "import polars as pl\n",
    "import data_actions.data_processing.utils as utils"
   ]
  },
  {
   "cell_type": "code",
   "execution_count": 2,
   "metadata": {},
   "outputs": [
    {
     "name": "stderr",
     "output_type": "stream",
     "text": [
      "/home/adam/python-projects/recsys25/data_actions/data_processing/utils.py:67: PerformanceWarning: Determining the column names of a LazyFrame requires resolving its schema, which is a potentially expensive operation. Use `LazyFrame.collect_schema().names()` to get the column names without this warning.\n",
      "  if \"timestamp\" in df.columns:\n"
     ]
    }
   ],
   "source": [
    "data = utils.load_data(\"data/original_data\")\n",
    "utils.calculate_days_since_start(data)"
   ]
  },
  {
   "cell_type": "code",
   "execution_count": 3,
   "metadata": {},
   "outputs": [],
   "source": [
    "days = pl.concat([data[\"events\"][df].select(\"days_since_start\") for df in data[\"events\"]])\n",
    "max_day = days.max().collect().item()"
   ]
  },
  {
   "cell_type": "markdown",
   "metadata": {},
   "source": [
    "## Features\n",
    "\n",
    "Features with which I came up based on the data we have, every feature for three time windows - 1 day, 1 week, 1 month, and for every event among product_buy, add_to_cart, remove_from_cart:\n",
    "- number of actions\n",
    "- the three most common item ids (for relevant items)\n",
    "- the three most common categories (for relevant categories)\n",
    "- the average or mode price of items to which actions are performed (mode may seem stupid but the prices are given as quartiles)\n",
    "\n",
    "One additional feature may be to cluster the queries of an user, calculate avg in every cluster and use the most similar item id to the average for every cluster as another feature (We should try to visualize it if it makes any sense before using in training)\n",
    "\n",
    "For now, I don't have any particular idea for page_visits except:\n",
    "- number of pages visited in a time window\n",
    "- the most common page visited\n",
    "\n",
    "The number of features would be **periods * features * events + clusters + page_visit_features = 3 * 8 * 3 + n + 2 = 74 + n**\n"
   ]
  },
  {
   "cell_type": "code",
   "execution_count": 48,
   "metadata": {},
   "outputs": [],
   "source": [
    "event_counts = dict()\n",
    "\n",
    "for table in (\"add_to_cart\", \"remove_from_cart\", \"product_buy\"):\n",
    "    event_counts[table] = data[\"events\"][table].group_by([\"client_id\", \"days_since_start\"]).agg(\n",
    "        [\n",
    "            pl.col(\"client_id\").count().alias(f\"count_{table}\"),\n",
    "            pl.col(\"sku\").value_counts(sort=True).struct.field(\"sku\").first().alias(f\"most_common_item_{table}\"),\n",
    "        ]\n",
    "    )\n"
   ]
  },
  {
   "cell_type": "code",
   "execution_count": 54,
   "metadata": {},
   "outputs": [
    {
     "data": {
      "text/html": [
       "<div><style>\n",
       ".dataframe > thead > tr,\n",
       ".dataframe > tbody > tr {\n",
       "  text-align: right;\n",
       "  white-space: pre-wrap;\n",
       "}\n",
       "</style>\n",
       "<small>shape: (3_177_741, 8)</small><table border=\"1\" class=\"dataframe\"><thead><tr><th>client_id</th><th>days_since_start</th><th>count_add_to_cart</th><th>most_common_item_add_to_cart</th><th>count_remove_from_cart</th><th>most_common_item_remove_from_cart</th><th>count_product_buy</th><th>most_common_item_product_buy</th></tr><tr><td>i64</td><td>i64</td><td>u32</td><td>i64</td><td>u32</td><td>i64</td><td>u32</td><td>i64</td></tr></thead><tbody><tr><td>13042918</td><td>91</td><td>2</td><td>993880</td><td>0</td><td>0</td><td>0</td><td>0</td></tr><tr><td>3982734</td><td>134</td><td>7</td><td>1319275</td><td>11</td><td>1235754</td><td>0</td><td>0</td></tr><tr><td>21840456</td><td>140</td><td>5</td><td>451894</td><td>0</td><td>0</td><td>0</td><td>0</td></tr><tr><td>10736527</td><td>67</td><td>2</td><td>537922</td><td>1</td><td>4262</td><td>0</td><td>0</td></tr><tr><td>22369419</td><td>119</td><td>1</td><td>285430</td><td>0</td><td>0</td><td>0</td><td>0</td></tr><tr><td>&hellip;</td><td>&hellip;</td><td>&hellip;</td><td>&hellip;</td><td>&hellip;</td><td>&hellip;</td><td>&hellip;</td><td>&hellip;</td></tr><tr><td>13188357</td><td>74</td><td>0</td><td>0</td><td>0</td><td>0</td><td>1</td><td>130029</td></tr><tr><td>12238851</td><td>53</td><td>0</td><td>0</td><td>0</td><td>0</td><td>1</td><td>259624</td></tr><tr><td>3456497</td><td>32</td><td>0</td><td>0</td><td>0</td><td>0</td><td>3</td><td>1424146</td></tr><tr><td>14843377</td><td>23</td><td>0</td><td>0</td><td>0</td><td>0</td><td>2</td><td>1360541</td></tr><tr><td>9861352</td><td>51</td><td>0</td><td>0</td><td>0</td><td>0</td><td>2</td><td>1197585</td></tr></tbody></table></div>"
      ],
      "text/plain": [
       "shape: (3_177_741, 8)\n",
       "┌───────────┬────────────┬────────────┬────────────┬───────────┬───────────┬───────────┬───────────┐\n",
       "│ client_id ┆ days_since ┆ count_add_ ┆ most_commo ┆ count_rem ┆ most_comm ┆ count_pro ┆ most_comm │\n",
       "│ ---       ┆ _start     ┆ to_cart    ┆ n_item_add ┆ ove_from_ ┆ on_item_r ┆ duct_buy  ┆ on_item_p │\n",
       "│ i64       ┆ ---        ┆ ---        ┆ _to_cart   ┆ cart      ┆ emove_fro ┆ ---       ┆ roduct_bu │\n",
       "│           ┆ i64        ┆ u32        ┆ ---        ┆ ---       ┆ m_c…      ┆ u32       ┆ y         │\n",
       "│           ┆            ┆            ┆ i64        ┆ u32       ┆ ---       ┆           ┆ ---       │\n",
       "│           ┆            ┆            ┆            ┆           ┆ i64       ┆           ┆ i64       │\n",
       "╞═══════════╪════════════╪════════════╪════════════╪═══════════╪═══════════╪═══════════╪═══════════╡\n",
       "│ 13042918  ┆ 91         ┆ 2          ┆ 993880     ┆ 0         ┆ 0         ┆ 0         ┆ 0         │\n",
       "│ 3982734   ┆ 134        ┆ 7          ┆ 1319275    ┆ 11        ┆ 1235754   ┆ 0         ┆ 0         │\n",
       "│ 21840456  ┆ 140        ┆ 5          ┆ 451894     ┆ 0         ┆ 0         ┆ 0         ┆ 0         │\n",
       "│ 10736527  ┆ 67         ┆ 2          ┆ 537922     ┆ 1         ┆ 4262      ┆ 0         ┆ 0         │\n",
       "│ 22369419  ┆ 119        ┆ 1          ┆ 285430     ┆ 0         ┆ 0         ┆ 0         ┆ 0         │\n",
       "│ …         ┆ …          ┆ …          ┆ …          ┆ …         ┆ …         ┆ …         ┆ …         │\n",
       "│ 13188357  ┆ 74         ┆ 0          ┆ 0          ┆ 0         ┆ 0         ┆ 1         ┆ 130029    │\n",
       "│ 12238851  ┆ 53         ┆ 0          ┆ 0          ┆ 0         ┆ 0         ┆ 1         ┆ 259624    │\n",
       "│ 3456497   ┆ 32         ┆ 0          ┆ 0          ┆ 0         ┆ 0         ┆ 3         ┆ 1424146   │\n",
       "│ 14843377  ┆ 23         ┆ 0          ┆ 0          ┆ 0         ┆ 0         ┆ 2         ┆ 1360541   │\n",
       "│ 9861352   ┆ 51         ┆ 0          ┆ 0          ┆ 0         ┆ 0         ┆ 2         ┆ 1197585   │\n",
       "└───────────┴────────────┴────────────┴────────────┴───────────┴───────────┴───────────┴───────────┘"
      ]
     },
     "execution_count": 54,
     "metadata": {},
     "output_type": "execute_result"
    }
   ],
   "source": [
    "joined_table = list(event_counts.items())[0][1]\n",
    "for _, table in list(event_counts.items())[1:]:\n",
    "    joined_table = joined_table.join(table, on=[\"client_id\", \"days_since_start\"], how=\"full\", coalesce=True)\n",
    "\n",
    "joined_table = joined_table.fill_null(0)\n",
    "joined_table.collect()\n"
   ]
  },
  {
   "cell_type": "code",
   "execution_count": null,
   "metadata": {},
   "outputs": [],
   "source": []
  },
  {
   "cell_type": "code",
   "execution_count": null,
   "metadata": {},
   "outputs": [],
   "source": []
  },
  {
   "cell_type": "code",
   "execution_count": null,
   "metadata": {},
   "outputs": [],
   "source": []
  }
 ],
 "metadata": {
  "kernelspec": {
   "display_name": ".venv",
   "language": "python",
   "name": "python3"
  },
  "language_info": {
   "codemirror_mode": {
    "name": "ipython",
    "version": 3
   },
   "file_extension": ".py",
   "mimetype": "text/x-python",
   "name": "python",
   "nbconvert_exporter": "python",
   "pygments_lexer": "ipython3",
   "version": "3.12.3"
  }
 },
 "nbformat": 4,
 "nbformat_minor": 2
}

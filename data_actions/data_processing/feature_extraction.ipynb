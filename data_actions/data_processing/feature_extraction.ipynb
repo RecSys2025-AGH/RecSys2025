{
 "cells": [
  {
   "cell_type": "code",
   "execution_count": 2,
   "metadata": {},
   "outputs": [],
   "source": [
    "import polars as pl\n",
    "import data_actions.data_processing.utils as utils"
   ]
  },
  {
   "cell_type": "code",
   "execution_count": 2,
   "metadata": {},
   "outputs": [
    {
     "name": "stderr",
     "output_type": "stream",
     "text": [
      "/home/adam/python-projects/recsys25/data_actions/data_processing/utils.py:67: PerformanceWarning: Determining the column names of a LazyFrame requires resolving its schema, which is a potentially expensive operation. Use `LazyFrame.collect_schema().names()` to get the column names without this warning.\n",
      "  if \"timestamp\" in df.columns:\n"
     ]
    }
   ],
   "source": [
    "data = utils.load_data(\"data/original_data\")\n",
    "utils.calculate_days_since_start(data)"
   ]
  },
  {
   "cell_type": "code",
   "execution_count": null,
   "metadata": {},
   "outputs": [
    {
     "data": {
      "text/plain": [
       "int"
      ]
     },
     "execution_count": 6,
     "metadata": {},
     "output_type": "execute_result"
    }
   ],
   "source": [
    "days = pl.concat([data[\"events\"][df].select(\"days_since_start\") for df in data[\"events\"]])\n",
    "max_day = days.max().collect().item()"
   ]
  },
  {
   "cell_type": "markdown",
   "metadata": {},
   "source": [
    "## Features\n",
    "\n",
    "Features with which I came up based on the data we have, every feature for three time windows - 1 day, 1 week, 1 month, and for every event among product_buy, add_to_cart, remove_from_cart:\n",
    "- number of actions\n",
    "- the three most common item ids (for relevant items)\n",
    "- the three most common categories (for relevant categories)\n",
    "- the average or mode price of items to which actions are performed (mode may seem stupid but the prices are given as quartiles)\n",
    "\n",
    "One additional feature may be to cluster the queries of an user, calculate avg in every cluster and use the most similar item id to the average for every cluster as another feature (We should try to visualize it if it makes any sense before using in training)\n",
    "\n",
    "For now, I don't have any particular idea for page_visits except:\n",
    "- number of pages visited in a time window\n",
    "- the most common page visited\n",
    "\n",
    "The number of features would be **periods * features * events + clusters + page_visit_features = 3 * 8 * 3 + n + 2 = 74 + n**\n"
   ]
  },
  {
   "cell_type": "code",
   "execution_count": null,
   "metadata": {},
   "outputs": [],
   "source": [
    "def dataset_framing(df, max_day):\n",
    "    pass\n",
    "\n"
   ]
  },
  {
   "cell_type": "code",
   "execution_count": null,
   "metadata": {},
   "outputs": [],
   "source": []
  },
  {
   "cell_type": "code",
   "execution_count": null,
   "metadata": {},
   "outputs": [],
   "source": []
  },
  {
   "cell_type": "code",
   "execution_count": null,
   "metadata": {},
   "outputs": [],
   "source": []
  }
 ],
 "metadata": {
  "kernelspec": {
   "display_name": ".venv",
   "language": "python",
   "name": "python3"
  },
  "language_info": {
   "codemirror_mode": {
    "name": "ipython",
    "version": 3
   },
   "file_extension": ".py",
   "mimetype": "text/x-python",
   "name": "python",
   "nbconvert_exporter": "python",
   "pygments_lexer": "ipython3",
   "version": "3.12.3"
  }
 },
 "nbformat": 4,
 "nbformat_minor": 2
}

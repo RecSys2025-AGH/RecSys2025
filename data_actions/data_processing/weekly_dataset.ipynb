{
 "cells": [
  {
   "cell_type": "code",
   "execution_count": 27,
   "metadata": {},
   "outputs": [],
   "source": [
    "import polars as pl\n",
    "import data_actions.data_processing.utils as utils"
   ]
  },
  {
   "cell_type": "code",
   "execution_count": 28,
   "metadata": {},
   "outputs": [],
   "source": [
    "data = utils.load_data(\"data/original_data\")\n",
    "utils.calculate_days_since_start(data)"
   ]
  },
  {
   "cell_type": "code",
   "execution_count": 29,
   "metadata": {},
   "outputs": [],
   "source": [
    "event_counts = dict()\n",
    "joined_table_weeks = dict()\n",
    "datasets_per_day = dict()"
   ]
  },
  {
   "cell_type": "code",
   "execution_count": 30,
   "metadata": {},
   "outputs": [],
   "source": [
    "days_since_start = pl.concat([data[\"events\"][df].select(\"days_since_start\") for df in data[\"events\"]])\n",
    "max_day = days_since_start.max().collect().item()\n",
    "TARGET_START_DAY = max_day - 27\n",
    "VAL_START_DAY = max_day - 13"
   ]
  },
  {
   "cell_type": "code",
   "execution_count": 31,
   "metadata": {},
   "outputs": [],
   "source": [
    "product_info = data[\"products\"][\"product_properties\"]\n",
    "for table in (\"add_to_cart\", \"remove_from_cart\", \"product_buy\"):\n",
    "    df = data[\"events\"][table]\n",
    "    df = df.join(product_info.select(pl.exclude(\"name\")), on=\"sku\", how=\"left\")\n",
    "    data[\"events\"][table] = df"
   ]
  },
  {
   "cell_type": "code",
   "execution_count": 32,
   "metadata": {},
   "outputs": [
    {
     "name": "stderr",
     "output_type": "stream",
     "text": [
      "/tmp/ipykernel_299754/922096744.py:27: DeprecationWarning: `LazyGroupBy.count` is deprecated. It has been renamed to `len`.\n",
      "  .group_by(\"client_id\").count()\n"
     ]
    }
   ],
   "source": [
    "for day in range(28, TARGET_START_DAY):\n",
    "    for start in range(day - 28, day, 7):\n",
    "        week = start // 7\n",
    "        for table in (\"add_to_cart\", \"remove_from_cart\", \"product_buy\"):\n",
    "            df = data[\"events\"][table]\n",
    "            event_counts[table] = df.filter((pl.col(\"days_since_start\") >= start) & (pl.col(\"days_since_start\") < start + 7))\\\n",
    "                                  .group_by([\"client_id\"]).agg(\n",
    "                [\n",
    "                    pl.col(\"client_id\").count().alias(f\"week{week}_count_{table}\"),\n",
    "                    pl.col(\"sku\").value_counts(sort=True).struct.field(\"sku\").first().alias(f\"week{week}_most_common_item_{table}\"),\n",
    "                    pl.col(\"category\").value_counts(sort=True).struct.field(\"category\").first().alias(f\"week{week}_most_common_cat_{table}\"),\n",
    "                    pl.col(\"price\").mean().alias(f\"week{week}_avg_price_{table}\"),\n",
    "                    pl.col(\"price\").value_counts(sort=True).struct.field(\"price\").first().alias(f\"week{week}_most_common_price_{table}\"),\n",
    "                ]\n",
    "            )\n",
    "\n",
    "        page_visits = data[\"events\"][\"page_visit\"].select(\"client_id\", \"days_since_start\", \"url\")\\\n",
    "                                                  .filter((pl.col(\"days_since_start\") >= start) & (pl.col(\"days_since_start\") < start + 7))\\\n",
    "                                                  .group_by(\"client_id\").agg(\n",
    "        [\n",
    "            pl.col(\"client_id\").count().alias(f\"week{week}_page_visits_count\"),\n",
    "        ])\n",
    "        event_counts[\"page_visit\"] = page_visits\n",
    "\n",
    "        query_counts = data[\"events\"][\"search_query\"].select(\"client_id\", \"days_since_start\")\\\n",
    "                                                     .filter((pl.col(\"days_since_start\") >= start) & (pl.col(\"days_since_start\") < start + 7))\\\n",
    "                                                     .group_by(\"client_id\").count()\n",
    "        query_counts = query_counts.rename({\"count\": f\"week{week}_search_query_count\"})\n",
    "        event_counts[\"search_query\"] = query_counts\n",
    "\n",
    "        joined_table = list(event_counts.items())[0][1]\n",
    "        for _, table in list(event_counts.items())[1:]:\n",
    "            joined_table = joined_table.join(table, on=[\"client_id\"], how=\"full\", coalesce=True)\n",
    "        joined_table_weeks[week] = joined_table\n",
    "\n",
    "    full_joined_table = list(joined_table_weeks.values())[0]\n",
    "    for _, table in list(joined_table_weeks.items())[1:]:\n",
    "        full_joined_table = full_joined_table.join(table, on=[\"client_id\"], how=\"full\", coalesce=True)\n",
    "    \n",
    "    datasets_per_day[day] = full_joined_table"
   ]
  },
  {
   "cell_type": "code",
   "execution_count": null,
   "metadata": {},
   "outputs": [
    {
     "ename": "",
     "evalue": "",
     "output_type": "error",
     "traceback": [
      "\u001b[1;31mThe Kernel crashed while executing code in the current cell or a previous cell. \n",
      "\u001b[1;31mPlease review the code in the cell(s) to identify a possible cause of the failure. \n",
      "\u001b[1;31mClick <a href='https://aka.ms/vscodeJupyterKernelCrash'>here</a> for more info. \n",
      "\u001b[1;31mView Jupyter <a href='command:jupyter.viewOutput'>log</a> for further details."
     ]
    }
   ],
   "source": [
    "dataset = list(datasets_per_day.values())[0].collect()\n",
    "for i, table in enumerate(list(datasets_per_day.values())[1:]):\n",
    "    dataset = dataset.vstack(table.collect())\n",
    "    dataset.write_parquet(f\"weekly_dataset_checkpoint{i}.parquet\", compression=\"gzip\")"
   ]
  },
  {
   "cell_type": "code",
   "execution_count": null,
   "metadata": {},
   "outputs": [],
   "source": []
  }
 ],
 "metadata": {
  "kernelspec": {
   "display_name": ".venv",
   "language": "python",
   "name": "python3"
  },
  "language_info": {
   "codemirror_mode": {
    "name": "ipython",
    "version": 3
   },
   "file_extension": ".py",
   "mimetype": "text/x-python",
   "name": "python",
   "nbconvert_exporter": "python",
   "pygments_lexer": "ipython3",
   "version": "3.12.3"
  }
 },
 "nbformat": 4,
 "nbformat_minor": 2
}

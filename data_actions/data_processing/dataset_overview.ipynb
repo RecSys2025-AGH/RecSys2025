{
 "cells": [
  {
   "cell_type": "code",
   "execution_count": 1,
   "metadata": {},
   "outputs": [],
   "source": [
    "import polars as pl"
   ]
  },
  {
   "cell_type": "markdown",
   "metadata": {},
   "source": [
    "# Daily Dataset\n",
    "The first version of the dataset is the data for every user and every day including undermentioned features:\n",
    "- number of add_to_cart actions on a given day\n",
    "- most commonly item added to card item\n",
    "- most commonly category of item added to card\n",
    "- avg price bucket \n",
    "- most common price bucket\n",
    "- Same features for remove_from_cart and product_buy\n",
    "- page visits count on a given day\n",
    "- search queries count on a given day"
   ]
  },
  {
   "cell_type": "code",
   "execution_count": 11,
   "metadata": {},
   "outputs": [
    {
     "data": {
      "text/html": [
       "<div><style>\n",
       ".dataframe > thead > tr,\n",
       ".dataframe > tbody > tr {\n",
       "  text-align: right;\n",
       "  white-space: pre-wrap;\n",
       "}\n",
       "</style>\n",
       "<small>shape: (36_385_995, 19)</small><table border=\"1\" class=\"dataframe\"><thead><tr><th>client_id</th><th>days_since_start</th><th>count_add_to_cart</th><th>most_common_item_add_to_cart</th><th>most_common_cat_add_to_cart</th><th>avg_price_add_to_cart</th><th>most_common_price_add_to_cart</th><th>count_remove_from_cart</th><th>most_common_item_remove_from_cart</th><th>most_common_cat_remove_from_cart</th><th>avg_price_remove_from_cart</th><th>most_common_price_remove_from_cart</th><th>count_product_buy</th><th>most_common_item_product_buy</th><th>most_common_cat_product_buy</th><th>avg_price_product_buy</th><th>most_common_price_product_buy</th><th>page_visits_count</th><th>search_query_count</th></tr><tr><td>i64</td><td>i64</td><td>u32</td><td>i64</td><td>i64</td><td>f64</td><td>i64</td><td>u32</td><td>i64</td><td>i64</td><td>f64</td><td>i64</td><td>u32</td><td>i64</td><td>i64</td><td>f64</td><td>i64</td><td>u32</td><td>u32</td></tr></thead><tbody><tr><td>15253314</td><td>18</td><td>0</td><td>0</td><td>0</td><td>0.0</td><td>0</td><td>0</td><td>0</td><td>0</td><td>0.0</td><td>0</td><td>0</td><td>0</td><td>0</td><td>0.0</td><td>0</td><td>2</td><td>0</td></tr><tr><td>19362822</td><td>59</td><td>0</td><td>0</td><td>0</td><td>0.0</td><td>0</td><td>0</td><td>0</td><td>0</td><td>0.0</td><td>0</td><td>0</td><td>0</td><td>0</td><td>0.0</td><td>0</td><td>1</td><td>0</td></tr><tr><td>14732825</td><td>102</td><td>0</td><td>0</td><td>0</td><td>0.0</td><td>0</td><td>0</td><td>0</td><td>0</td><td>0.0</td><td>0</td><td>0</td><td>0</td><td>0</td><td>0.0</td><td>0</td><td>1</td><td>0</td></tr><tr><td>21440749</td><td>18</td><td>0</td><td>0</td><td>0</td><td>0.0</td><td>0</td><td>0</td><td>0</td><td>0</td><td>0.0</td><td>0</td><td>0</td><td>0</td><td>0</td><td>0.0</td><td>0</td><td>6</td><td>0</td></tr><tr><td>8186829</td><td>9</td><td>0</td><td>0</td><td>0</td><td>0.0</td><td>0</td><td>0</td><td>0</td><td>0</td><td>0.0</td><td>0</td><td>0</td><td>0</td><td>0</td><td>0.0</td><td>0</td><td>1</td><td>0</td></tr><tr><td>&hellip;</td><td>&hellip;</td><td>&hellip;</td><td>&hellip;</td><td>&hellip;</td><td>&hellip;</td><td>&hellip;</td><td>&hellip;</td><td>&hellip;</td><td>&hellip;</td><td>&hellip;</td><td>&hellip;</td><td>&hellip;</td><td>&hellip;</td><td>&hellip;</td><td>&hellip;</td><td>&hellip;</td><td>&hellip;</td><td>&hellip;</td></tr><tr><td>8334901</td><td>67</td><td>0</td><td>0</td><td>0</td><td>0.0</td><td>0</td><td>0</td><td>0</td><td>0</td><td>0.0</td><td>0</td><td>0</td><td>0</td><td>0</td><td>0.0</td><td>0</td><td>0</td><td>1</td></tr><tr><td>11635876</td><td>59</td><td>0</td><td>0</td><td>0</td><td>0.0</td><td>0</td><td>0</td><td>0</td><td>0</td><td>0.0</td><td>0</td><td>0</td><td>0</td><td>0</td><td>0.0</td><td>0</td><td>0</td><td>1</td></tr><tr><td>13400957</td><td>135</td><td>0</td><td>0</td><td>0</td><td>0.0</td><td>0</td><td>0</td><td>0</td><td>0</td><td>0.0</td><td>0</td><td>0</td><td>0</td><td>0</td><td>0.0</td><td>0</td><td>0</td><td>1</td></tr><tr><td>1938959</td><td>86</td><td>0</td><td>0</td><td>0</td><td>0.0</td><td>0</td><td>0</td><td>0</td><td>0</td><td>0.0</td><td>0</td><td>0</td><td>0</td><td>0</td><td>0.0</td><td>0</td><td>0</td><td>1</td></tr><tr><td>3318963</td><td>73</td><td>0</td><td>0</td><td>0</td><td>0.0</td><td>0</td><td>0</td><td>0</td><td>0</td><td>0.0</td><td>0</td><td>0</td><td>0</td><td>0</td><td>0.0</td><td>0</td><td>0</td><td>1</td></tr></tbody></table></div>"
      ],
      "text/plain": [
       "shape: (36_385_995, 19)\n",
       "┌───────────┬───────────┬───────────┬───────────┬───┬───────────┬───────────┬───────────┬──────────┐\n",
       "│ client_id ┆ days_sinc ┆ count_add ┆ most_comm ┆ … ┆ avg_price ┆ most_comm ┆ page_visi ┆ search_q │\n",
       "│ ---       ┆ e_start   ┆ _to_cart  ┆ on_item_a ┆   ┆ _product_ ┆ on_price_ ┆ ts_count  ┆ uery_cou │\n",
       "│ i64       ┆ ---       ┆ ---       ┆ dd_to_car ┆   ┆ buy       ┆ product_b ┆ ---       ┆ nt       │\n",
       "│           ┆ i64       ┆ u32       ┆ t         ┆   ┆ ---       ┆ uy        ┆ u32       ┆ ---      │\n",
       "│           ┆           ┆           ┆ ---       ┆   ┆ f64       ┆ ---       ┆           ┆ u32      │\n",
       "│           ┆           ┆           ┆ i64       ┆   ┆           ┆ i64       ┆           ┆          │\n",
       "╞═══════════╪═══════════╪═══════════╪═══════════╪═══╪═══════════╪═══════════╪═══════════╪══════════╡\n",
       "│ 15253314  ┆ 18        ┆ 0         ┆ 0         ┆ … ┆ 0.0       ┆ 0         ┆ 2         ┆ 0        │\n",
       "│ 19362822  ┆ 59        ┆ 0         ┆ 0         ┆ … ┆ 0.0       ┆ 0         ┆ 1         ┆ 0        │\n",
       "│ 14732825  ┆ 102       ┆ 0         ┆ 0         ┆ … ┆ 0.0       ┆ 0         ┆ 1         ┆ 0        │\n",
       "│ 21440749  ┆ 18        ┆ 0         ┆ 0         ┆ … ┆ 0.0       ┆ 0         ┆ 6         ┆ 0        │\n",
       "│ 8186829   ┆ 9         ┆ 0         ┆ 0         ┆ … ┆ 0.0       ┆ 0         ┆ 1         ┆ 0        │\n",
       "│ …         ┆ …         ┆ …         ┆ …         ┆ … ┆ …         ┆ …         ┆ …         ┆ …        │\n",
       "│ 8334901   ┆ 67        ┆ 0         ┆ 0         ┆ … ┆ 0.0       ┆ 0         ┆ 0         ┆ 1        │\n",
       "│ 11635876  ┆ 59        ┆ 0         ┆ 0         ┆ … ┆ 0.0       ┆ 0         ┆ 0         ┆ 1        │\n",
       "│ 13400957  ┆ 135       ┆ 0         ┆ 0         ┆ … ┆ 0.0       ┆ 0         ┆ 0         ┆ 1        │\n",
       "│ 1938959   ┆ 86        ┆ 0         ┆ 0         ┆ … ┆ 0.0       ┆ 0         ┆ 0         ┆ 1        │\n",
       "│ 3318963   ┆ 73        ┆ 0         ┆ 0         ┆ … ┆ 0.0       ┆ 0         ┆ 0         ┆ 1        │\n",
       "└───────────┴───────────┴───────────┴───────────┴───┴───────────┴───────────┴───────────┴──────────┘"
      ]
     },
     "execution_count": 11,
     "metadata": {},
     "output_type": "execute_result"
    }
   ],
   "source": [
    "df = pl.scan_parquet(\"data/processed_data/dataset.parquet\")\n",
    "df.collect()\n"
   ]
  },
  {
   "cell_type": "code",
   "execution_count": 2,
   "metadata": {},
   "outputs": [
    {
     "name": "stderr",
     "output_type": "stream",
     "text": [
      "/tmp/ipykernel_315587/2006029185.py:2: PerformanceWarning: Resolving the schema of a LazyFrame is a potentially expensive operation. Use `LazyFrame.collect_schema()` to get the schema without this warning.\n",
      "  df.schema\n"
     ]
    },
    {
     "data": {
      "text/plain": [
       "Schema([('client_id', Int64),\n",
       "        ('week0_count_add_to_cart', UInt32),\n",
       "        ('week0_most_common_item_add_to_cart', Int64),\n",
       "        ('week0_most_common_cat_add_to_cart', Int64),\n",
       "        ('week0_avg_price_add_to_cart', Float64),\n",
       "        ('week0_most_common_price_add_to_cart', Int64),\n",
       "        ('week0_count_remove_from_cart', UInt32),\n",
       "        ('week0_most_common_item_remove_from_cart', Int64),\n",
       "        ('week0_most_common_cat_remove_from_cart', Int64),\n",
       "        ('week0_avg_price_remove_from_cart', Float64),\n",
       "        ('week0_most_common_price_remove_from_cart', Int64),\n",
       "        ('week0_count_product_buy', UInt32),\n",
       "        ('week0_most_common_item_product_buy', Int64),\n",
       "        ('week0_most_common_cat_product_buy', Int64),\n",
       "        ('week0_avg_price_product_buy', Float64),\n",
       "        ('week0_most_common_price_product_buy', Int64),\n",
       "        ('week0_page_visits_count', UInt32),\n",
       "        ('week0_search_query_count', UInt32),\n",
       "        ('week1_count_add_to_cart', UInt32),\n",
       "        ('week1_most_common_item_add_to_cart', Int64),\n",
       "        ('week1_most_common_cat_add_to_cart', Int64),\n",
       "        ('week1_avg_price_add_to_cart', Float64),\n",
       "        ('week1_most_common_price_add_to_cart', Int64),\n",
       "        ('week1_count_remove_from_cart', UInt32),\n",
       "        ('week1_most_common_item_remove_from_cart', Int64),\n",
       "        ('week1_most_common_cat_remove_from_cart', Int64),\n",
       "        ('week1_avg_price_remove_from_cart', Float64),\n",
       "        ('week1_most_common_price_remove_from_cart', Int64),\n",
       "        ('week1_count_product_buy', UInt32),\n",
       "        ('week1_most_common_item_product_buy', Int64),\n",
       "        ('week1_most_common_cat_product_buy', Int64),\n",
       "        ('week1_avg_price_product_buy', Float64),\n",
       "        ('week1_most_common_price_product_buy', Int64),\n",
       "        ('week1_page_visits_count', UInt32),\n",
       "        ('week1_search_query_count', UInt32),\n",
       "        ('week2_count_add_to_cart', UInt32),\n",
       "        ('week2_most_common_item_add_to_cart', Int64),\n",
       "        ('week2_most_common_cat_add_to_cart', Int64),\n",
       "        ('week2_avg_price_add_to_cart', Float64),\n",
       "        ('week2_most_common_price_add_to_cart', Int64),\n",
       "        ('week2_count_remove_from_cart', UInt32),\n",
       "        ('week2_most_common_item_remove_from_cart', Int64),\n",
       "        ('week2_most_common_cat_remove_from_cart', Int64),\n",
       "        ('week2_avg_price_remove_from_cart', Float64),\n",
       "        ('week2_most_common_price_remove_from_cart', Int64),\n",
       "        ('week2_count_product_buy', UInt32),\n",
       "        ('week2_most_common_item_product_buy', Int64),\n",
       "        ('week2_most_common_cat_product_buy', Int64),\n",
       "        ('week2_avg_price_product_buy', Float64),\n",
       "        ('week2_most_common_price_product_buy', Int64),\n",
       "        ('week2_page_visits_count', UInt32),\n",
       "        ('week2_search_query_count', UInt32),\n",
       "        ('week3_count_add_to_cart', UInt32),\n",
       "        ('week3_most_common_item_add_to_cart', Int64),\n",
       "        ('week3_most_common_cat_add_to_cart', Int64),\n",
       "        ('week3_avg_price_add_to_cart', Float64),\n",
       "        ('week3_most_common_price_add_to_cart', Int64),\n",
       "        ('week3_count_remove_from_cart', UInt32),\n",
       "        ('week3_most_common_item_remove_from_cart', Int64),\n",
       "        ('week3_most_common_cat_remove_from_cart', Int64),\n",
       "        ('week3_avg_price_remove_from_cart', Float64),\n",
       "        ('week3_most_common_price_remove_from_cart', Int64),\n",
       "        ('week3_count_product_buy', UInt32),\n",
       "        ('week3_most_common_item_product_buy', Int64),\n",
       "        ('week3_most_common_cat_product_buy', Int64),\n",
       "        ('week3_avg_price_product_buy', Float64),\n",
       "        ('week3_most_common_price_product_buy', Int64),\n",
       "        ('week3_page_visits_count', UInt32),\n",
       "        ('week3_search_query_count', UInt32)])"
      ]
     },
     "execution_count": 2,
     "metadata": {},
     "output_type": "execute_result"
    }
   ],
   "source": [
    "df = pl.scan_parquet(\"data/processed_data/weekly_dataset.parquet\")\n",
    "df.schema"
   ]
  },
  {
   "cell_type": "code",
   "execution_count": null,
   "metadata": {},
   "outputs": [],
   "source": []
  }
 ],
 "metadata": {
  "kernelspec": {
   "display_name": ".venv",
   "language": "python",
   "name": "python3"
  },
  "language_info": {
   "codemirror_mode": {
    "name": "ipython",
    "version": 3
   },
   "file_extension": ".py",
   "mimetype": "text/x-python",
   "name": "python",
   "nbconvert_exporter": "python",
   "pygments_lexer": "ipython3",
   "version": "3.12.3"
  }
 },
 "nbformat": 4,
 "nbformat_minor": 2
}

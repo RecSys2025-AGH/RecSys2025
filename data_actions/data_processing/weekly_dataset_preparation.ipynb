{
 "cells": [
  {
   "cell_type": "code",
   "execution_count": 19,
   "metadata": {},
   "outputs": [],
   "source": [
    "import polars as pl\n",
    "import numpy as np"
   ]
  },
  {
   "cell_type": "code",
   "execution_count": 2,
   "metadata": {},
   "outputs": [],
   "source": [
    "df = pl.scan_parquet(\"data/processed_data/weekly_dataset/weekly_dataset_part5.parquet\")"
   ]
  },
  {
   "cell_type": "code",
   "execution_count": null,
   "metadata": {},
   "outputs": [
    {
     "name": "stderr",
     "output_type": "stream",
     "text": [
      "/tmp/ipykernel_29083/1435820558.py:1: UserWarning: encountered expression deeper than 512 elements; this may overflow the stack, consider refactoring\n",
      "  df.filter(pl.col(\"days_since_start\") == 112).filter(pl.sum_horizontal(pl.all().is_null()) <= 40).collect(engine=\"streaming\")\n"
     ]
    },
    {
     "data": {
      "text/html": [
       "<div><style>\n",
       ".dataframe > thead > tr,\n",
       ".dataframe > tbody > tr {\n",
       "  text-align: right;\n",
       "  white-space: pre-wrap;\n",
       "}\n",
       "</style>\n",
       "<small>shape: (10_848, 70)</small><table border=\"1\" class=\"dataframe\"><thead><tr><th>client_id</th><th>week0_count_add_to_cart</th><th>week0_most_common_item_add_to_cart</th><th>week0_most_common_cat_add_to_cart</th><th>week0_avg_price_add_to_cart</th><th>week0_most_common_price_add_to_cart</th><th>week0_count_remove_from_cart</th><th>week0_most_common_item_remove_from_cart</th><th>week0_most_common_cat_remove_from_cart</th><th>week0_avg_price_remove_from_cart</th><th>week0_most_common_price_remove_from_cart</th><th>week0_count_product_buy</th><th>week0_most_common_item_product_buy</th><th>week0_most_common_cat_product_buy</th><th>week0_avg_price_product_buy</th><th>week0_most_common_price_product_buy</th><th>week0_page_visits_count</th><th>week0_search_query_count</th><th>week1_count_add_to_cart</th><th>week1_most_common_item_add_to_cart</th><th>week1_most_common_cat_add_to_cart</th><th>week1_avg_price_add_to_cart</th><th>week1_most_common_price_add_to_cart</th><th>week1_count_remove_from_cart</th><th>week1_most_common_item_remove_from_cart</th><th>week1_most_common_cat_remove_from_cart</th><th>week1_avg_price_remove_from_cart</th><th>week1_most_common_price_remove_from_cart</th><th>week1_count_product_buy</th><th>week1_most_common_item_product_buy</th><th>week1_most_common_cat_product_buy</th><th>week1_avg_price_product_buy</th><th>week1_most_common_price_product_buy</th><th>week1_page_visits_count</th><th>week1_search_query_count</th><th>week2_count_add_to_cart</th><th>week2_most_common_item_add_to_cart</th><th>week2_most_common_cat_add_to_cart</th><th>week2_avg_price_add_to_cart</th><th>week2_most_common_price_add_to_cart</th><th>week2_count_remove_from_cart</th><th>week2_most_common_item_remove_from_cart</th><th>week2_most_common_cat_remove_from_cart</th><th>week2_avg_price_remove_from_cart</th><th>week2_most_common_price_remove_from_cart</th><th>week2_count_product_buy</th><th>week2_most_common_item_product_buy</th><th>week2_most_common_cat_product_buy</th><th>week2_avg_price_product_buy</th><th>week2_most_common_price_product_buy</th><th>week2_page_visits_count</th><th>week2_search_query_count</th><th>week3_count_add_to_cart</th><th>week3_most_common_item_add_to_cart</th><th>week3_most_common_cat_add_to_cart</th><th>week3_avg_price_add_to_cart</th><th>week3_most_common_price_add_to_cart</th><th>week3_count_remove_from_cart</th><th>week3_most_common_item_remove_from_cart</th><th>week3_most_common_cat_remove_from_cart</th><th>week3_avg_price_remove_from_cart</th><th>week3_most_common_price_remove_from_cart</th><th>week3_count_product_buy</th><th>week3_most_common_item_product_buy</th><th>week3_most_common_cat_product_buy</th><th>week3_avg_price_product_buy</th><th>week3_most_common_price_product_buy</th><th>week3_page_visits_count</th><th>week3_search_query_count</th><th>days_since_start</th></tr><tr><td>i64</td><td>u32</td><td>i64</td><td>i64</td><td>f64</td><td>i64</td><td>u32</td><td>i64</td><td>i64</td><td>f64</td><td>i64</td><td>u32</td><td>i64</td><td>i64</td><td>f64</td><td>i64</td><td>u32</td><td>u32</td><td>u32</td><td>i64</td><td>i64</td><td>f64</td><td>i64</td><td>u32</td><td>i64</td><td>i64</td><td>f64</td><td>i64</td><td>u32</td><td>i64</td><td>i64</td><td>f64</td><td>i64</td><td>u32</td><td>u32</td><td>u32</td><td>i64</td><td>i64</td><td>f64</td><td>i64</td><td>u32</td><td>i64</td><td>i64</td><td>f64</td><td>i64</td><td>u32</td><td>i64</td><td>i64</td><td>f64</td><td>i64</td><td>u32</td><td>u32</td><td>u32</td><td>i64</td><td>i64</td><td>f64</td><td>i64</td><td>u32</td><td>i64</td><td>i64</td><td>f64</td><td>i64</td><td>u32</td><td>i64</td><td>i64</td><td>f64</td><td>i64</td><td>u32</td><td>u32</td><td>i32</td></tr></thead><tbody><tr><td>12850981</td><td>null</td><td>null</td><td>null</td><td>null</td><td>null</td><td>null</td><td>null</td><td>null</td><td>null</td><td>null</td><td>null</td><td>null</td><td>null</td><td>null</td><td>null</td><td>null</td><td>null</td><td>17</td><td>722697</td><td>854</td><td>4.0</td><td>4</td><td>3</td><td>722697</td><td>854</td><td>31.666667</td><td>4</td><td>1</td><td>722697</td><td>854</td><td>4.0</td><td>4</td><td>4</td><td>null</td><td>1</td><td>309860</td><td>6214</td><td>64.0</td><td>64</td><td>null</td><td>null</td><td>null</td><td>null</td><td>null</td><td>null</td><td>null</td><td>null</td><td>null</td><td>null</td><td>3</td><td>null</td><td>6</td><td>467479</td><td>1148</td><td>3.0</td><td>3</td><td>1</td><td>309860</td><td>6214</td><td>64.0</td><td>64</td><td>null</td><td>null</td><td>null</td><td>null</td><td>null</td><td>22</td><td>null</td><td>112</td></tr><tr><td>14416730</td><td>null</td><td>null</td><td>null</td><td>null</td><td>null</td><td>1</td><td>695989</td><td>4715</td><td>33.0</td><td>33</td><td>null</td><td>null</td><td>null</td><td>null</td><td>null</td><td>21</td><td>null</td><td>3</td><td>1407610</td><td>3506</td><td>46.666667</td><td>25</td><td>1</td><td>920289</td><td>1671</td><td>79.0</td><td>79</td><td>1</td><td>343714</td><td>4628</td><td>36.0</td><td>36</td><td>13</td><td>null</td><td>1</td><td>992979</td><td>6104</td><td>28.0</td><td>28</td><td>2</td><td>1407610</td><td>3506</td><td>26.5</td><td>25</td><td>null</td><td>null</td><td>null</td><td>null</td><td>null</td><td>61</td><td>10</td><td>null</td><td>null</td><td>null</td><td>null</td><td>null</td><td>null</td><td>null</td><td>null</td><td>null</td><td>null</td><td>null</td><td>null</td><td>null</td><td>null</td><td>null</td><td>23</td><td>2</td><td>112</td></tr><tr><td>8554176</td><td>null</td><td>null</td><td>null</td><td>null</td><td>null</td><td>null</td><td>null</td><td>null</td><td>null</td><td>null</td><td>null</td><td>null</td><td>null</td><td>null</td><td>null</td><td>46</td><td>4</td><td>22</td><td>502636</td><td>3944</td><td>13.136364</td><td>9</td><td>2</td><td>502636</td><td>3944</td><td>12.0</td><td>9</td><td>22</td><td>614844</td><td>3944</td><td>15.363636</td><td>15</td><td>487</td><td>45</td><td>18</td><td>1263919</td><td>1340</td><td>10.444444</td><td>5</td><td>9</td><td>1263919</td><td>430</td><td>9.666667</td><td>1</td><td>9</td><td>36869</td><td>3996</td><td>12.555556</td><td>5</td><td>316</td><td>null</td><td>3</td><td>161514</td><td>4142</td><td>86.333333</td><td>89</td><td>2</td><td>1403810</td><td>3944</td><td>33.0</td><td>47</td><td>null</td><td>null</td><td>null</td><td>null</td><td>null</td><td>212</td><td>25</td><td>112</td></tr><tr><td>11133045</td><td>4</td><td>1364455</td><td>4051</td><td>64.5</td><td>87</td><td>4</td><td>385408</td><td>2046</td><td>52.25</td><td>60</td><td>null</td><td>null</td><td>null</td><td>null</td><td>null</td><td>25</td><td>null</td><td>1</td><td>609688</td><td>3742</td><td>72.0</td><td>72</td><td>null</td><td>null</td><td>null</td><td>null</td><td>null</td><td>null</td><td>null</td><td>null</td><td>null</td><td>null</td><td>1</td><td>null</td><td>null</td><td>null</td><td>null</td><td>null</td><td>null</td><td>null</td><td>null</td><td>null</td><td>null</td><td>null</td><td>null</td><td>null</td><td>null</td><td>null</td><td>null</td><td>null</td><td>null</td><td>1</td><td>1020441</td><td>4044</td><td>57.0</td><td>57</td><td>null</td><td>null</td><td>null</td><td>null</td><td>null</td><td>1</td><td>1020441</td><td>4044</td><td>57.0</td><td>57</td><td>5</td><td>null</td><td>112</td></tr><tr><td>21836911</td><td>2</td><td>295490</td><td>1796</td><td>63.0</td><td>50</td><td>3</td><td>1014047</td><td>6477</td><td>43.333333</td><td>52</td><td>null</td><td>null</td><td>null</td><td>null</td><td>null</td><td>55</td><td>16</td><td>null</td><td>null</td><td>null</td><td>null</td><td>null</td><td>null</td><td>null</td><td>null</td><td>null</td><td>null</td><td>null</td><td>null</td><td>null</td><td>null</td><td>null</td><td>24</td><td>4</td><td>2</td><td>1068071</td><td>3709</td><td>61.5</td><td>64</td><td>2</td><td>127904</td><td>682</td><td>63.0</td><td>76</td><td>1</td><td>1068071</td><td>3709</td><td>64.0</td><td>64</td><td>26</td><td>2</td><td>13</td><td>893360</td><td>6206</td><td>54.461538</td><td>55</td><td>7</td><td>89487</td><td>6206</td><td>66.428571</td><td>59</td><td>null</td><td>null</td><td>null</td><td>null</td><td>null</td><td>121</td><td>29</td><td>112</td></tr><tr><td>&hellip;</td><td>&hellip;</td><td>&hellip;</td><td>&hellip;</td><td>&hellip;</td><td>&hellip;</td><td>&hellip;</td><td>&hellip;</td><td>&hellip;</td><td>&hellip;</td><td>&hellip;</td><td>&hellip;</td><td>&hellip;</td><td>&hellip;</td><td>&hellip;</td><td>&hellip;</td><td>&hellip;</td><td>&hellip;</td><td>&hellip;</td><td>&hellip;</td><td>&hellip;</td><td>&hellip;</td><td>&hellip;</td><td>&hellip;</td><td>&hellip;</td><td>&hellip;</td><td>&hellip;</td><td>&hellip;</td><td>&hellip;</td><td>&hellip;</td><td>&hellip;</td><td>&hellip;</td><td>&hellip;</td><td>&hellip;</td><td>&hellip;</td><td>&hellip;</td><td>&hellip;</td><td>&hellip;</td><td>&hellip;</td><td>&hellip;</td><td>&hellip;</td><td>&hellip;</td><td>&hellip;</td><td>&hellip;</td><td>&hellip;</td><td>&hellip;</td><td>&hellip;</td><td>&hellip;</td><td>&hellip;</td><td>&hellip;</td><td>&hellip;</td><td>&hellip;</td><td>&hellip;</td><td>&hellip;</td><td>&hellip;</td><td>&hellip;</td><td>&hellip;</td><td>&hellip;</td><td>&hellip;</td><td>&hellip;</td><td>&hellip;</td><td>&hellip;</td><td>&hellip;</td><td>&hellip;</td><td>&hellip;</td><td>&hellip;</td><td>&hellip;</td><td>&hellip;</td><td>&hellip;</td><td>&hellip;</td></tr><tr><td>11593496</td><td>null</td><td>null</td><td>null</td><td>null</td><td>null</td><td>null</td><td>null</td><td>null</td><td>null</td><td>null</td><td>null</td><td>null</td><td>null</td><td>null</td><td>null</td><td>null</td><td>null</td><td>null</td><td>null</td><td>null</td><td>null</td><td>null</td><td>null</td><td>null</td><td>null</td><td>null</td><td>null</td><td>null</td><td>null</td><td>null</td><td>null</td><td>null</td><td>null</td><td>null</td><td>10</td><td>1096617</td><td>4564</td><td>21.6</td><td>10</td><td>4</td><td>277409</td><td>4564</td><td>18.25</td><td>16</td><td>5</td><td>1179825</td><td>6284</td><td>26.0</td><td>66</td><td>157</td><td>40</td><td>14</td><td>922854</td><td>1954</td><td>22.214286</td><td>28</td><td>3</td><td>29397</td><td>1954</td><td>31.333333</td><td>28</td><td>2</td><td>856517</td><td>1954</td><td>27.5</td><td>27</td><td>132</td><td>10</td><td>112</td></tr><tr><td>20273123</td><td>null</td><td>null</td><td>null</td><td>null</td><td>null</td><td>null</td><td>null</td><td>null</td><td>null</td><td>null</td><td>null</td><td>null</td><td>null</td><td>null</td><td>null</td><td>null</td><td>null</td><td>null</td><td>null</td><td>null</td><td>null</td><td>null</td><td>null</td><td>null</td><td>null</td><td>null</td><td>null</td><td>null</td><td>null</td><td>null</td><td>null</td><td>null</td><td>null</td><td>null</td><td>4</td><td>521693</td><td>3421</td><td>59.0</td><td>63</td><td>1</td><td>521693</td><td>3421</td><td>63.0</td><td>63</td><td>3</td><td>521693</td><td>3421</td><td>57.666667</td><td>63</td><td>229</td><td>58</td><td>1</td><td>46367</td><td>1766</td><td>75.0</td><td>75</td><td>null</td><td>null</td><td>null</td><td>null</td><td>null</td><td>1</td><td>46367</td><td>1766</td><td>75.0</td><td>75</td><td>40</td><td>8</td><td>112</td></tr><tr><td>3649239</td><td>null</td><td>null</td><td>null</td><td>null</td><td>null</td><td>null</td><td>null</td><td>null</td><td>null</td><td>null</td><td>null</td><td>null</td><td>null</td><td>null</td><td>null</td><td>null</td><td>null</td><td>null</td><td>null</td><td>null</td><td>null</td><td>null</td><td>null</td><td>null</td><td>null</td><td>null</td><td>null</td><td>null</td><td>null</td><td>null</td><td>null</td><td>null</td><td>null</td><td>null</td><td>1</td><td>1037591</td><td>3451</td><td>28.0</td><td>28</td><td>3</td><td>1083277</td><td>4981</td><td>36.666667</td><td>36</td><td>1</td><td>196253</td><td>5145</td><td>71.0</td><td>71</td><td>12</td><td>null</td><td>27</td><td>547023</td><td>409</td><td>27.851852</td><td>17</td><td>3</td><td>869881</td><td>4981</td><td>27.0</td><td>32</td><td>5</td><td>1056454</td><td>409</td><td>45.2</td><td>17</td><td>86</td><td>10</td><td>112</td></tr><tr><td>8068626</td><td>null</td><td>null</td><td>null</td><td>null</td><td>null</td><td>null</td><td>null</td><td>null</td><td>null</td><td>null</td><td>null</td><td>null</td><td>null</td><td>null</td><td>null</td><td>null</td><td>null</td><td>null</td><td>null</td><td>null</td><td>null</td><td>null</td><td>null</td><td>null</td><td>null</td><td>null</td><td>null</td><td>null</td><td>null</td><td>null</td><td>null</td><td>null</td><td>null</td><td>null</td><td>6</td><td>1022329</td><td>6771</td><td>92.333333</td><td>96</td><td>1</td><td>1022329</td><td>6771</td><td>90.0</td><td>90</td><td>null</td><td>null</td><td>null</td><td>null</td><td>null</td><td>60</td><td>16</td><td>1</td><td>1022329</td><td>6771</td><td>90.0</td><td>90</td><td>1</td><td>274087</td><td>5476</td><td>95.0</td><td>95</td><td>3</td><td>149725</td><td>5562</td><td>94.0</td><td>96</td><td>36</td><td>1</td><td>112</td></tr><tr><td>7885219</td><td>null</td><td>null</td><td>null</td><td>null</td><td>null</td><td>null</td><td>null</td><td>null</td><td>null</td><td>null</td><td>null</td><td>null</td><td>null</td><td>null</td><td>null</td><td>null</td><td>null</td><td>null</td><td>null</td><td>null</td><td>null</td><td>null</td><td>null</td><td>null</td><td>null</td><td>null</td><td>null</td><td>null</td><td>null</td><td>null</td><td>null</td><td>null</td><td>null</td><td>null</td><td>4</td><td>51432</td><td>2513</td><td>89.25</td><td>90</td><td>2</td><td>51432</td><td>2513</td><td>90.0</td><td>90</td><td>1</td><td>208194</td><td>2513</td><td>88.0</td><td>88</td><td>15</td><td>1</td><td>2</td><td>1353675</td><td>2888</td><td>63.0</td><td>63</td><td>2</td><td>56917</td><td>3147</td><td>76.0</td><td>89</td><td>null</td><td>null</td><td>null</td><td>null</td><td>null</td><td>22</td><td>7</td><td>112</td></tr></tbody></table></div>"
      ],
      "text/plain": [
       "shape: (10_848, 70)\n",
       "┌───────────┬───────────┬───────────┬───────────┬───┬───────────┬───────────┬───────────┬──────────┐\n",
       "│ client_id ┆ week0_cou ┆ week0_mos ┆ week0_mos ┆ … ┆ week3_mos ┆ week3_pag ┆ week3_sea ┆ days_sin │\n",
       "│ ---       ┆ nt_add_to ┆ t_common_ ┆ t_common_ ┆   ┆ t_common_ ┆ e_visits_ ┆ rch_query ┆ ce_start │\n",
       "│ i64       ┆ _cart     ┆ item_add_ ┆ cat_add_t ┆   ┆ price_pro ┆ count     ┆ _count    ┆ ---      │\n",
       "│           ┆ ---       ┆ to_…      ┆ o_c…      ┆   ┆ duc…      ┆ ---       ┆ ---       ┆ i32      │\n",
       "│           ┆ u32       ┆ ---       ┆ ---       ┆   ┆ ---       ┆ u32       ┆ u32       ┆          │\n",
       "│           ┆           ┆ i64       ┆ i64       ┆   ┆ i64       ┆           ┆           ┆          │\n",
       "╞═══════════╪═══════════╪═══════════╪═══════════╪═══╪═══════════╪═══════════╪═══════════╪══════════╡\n",
       "│ 12850981  ┆ null      ┆ null      ┆ null      ┆ … ┆ null      ┆ 22        ┆ null      ┆ 112      │\n",
       "│ 14416730  ┆ null      ┆ null      ┆ null      ┆ … ┆ null      ┆ 23        ┆ 2         ┆ 112      │\n",
       "│ 8554176   ┆ null      ┆ null      ┆ null      ┆ … ┆ null      ┆ 212       ┆ 25        ┆ 112      │\n",
       "│ 11133045  ┆ 4         ┆ 1364455   ┆ 4051      ┆ … ┆ 57        ┆ 5         ┆ null      ┆ 112      │\n",
       "│ 21836911  ┆ 2         ┆ 295490    ┆ 1796      ┆ … ┆ null      ┆ 121       ┆ 29        ┆ 112      │\n",
       "│ …         ┆ …         ┆ …         ┆ …         ┆ … ┆ …         ┆ …         ┆ …         ┆ …        │\n",
       "│ 11593496  ┆ null      ┆ null      ┆ null      ┆ … ┆ 27        ┆ 132       ┆ 10        ┆ 112      │\n",
       "│ 20273123  ┆ null      ┆ null      ┆ null      ┆ … ┆ 75        ┆ 40        ┆ 8         ┆ 112      │\n",
       "│ 3649239   ┆ null      ┆ null      ┆ null      ┆ … ┆ 17        ┆ 86        ┆ 10        ┆ 112      │\n",
       "│ 8068626   ┆ null      ┆ null      ┆ null      ┆ … ┆ 96        ┆ 36        ┆ 1         ┆ 112      │\n",
       "│ 7885219   ┆ null      ┆ null      ┆ null      ┆ … ┆ null      ┆ 22        ┆ 7         ┆ 112      │\n",
       "└───────────┴───────────┴───────────┴───────────┴───┴───────────┴───────────┴───────────┴──────────┘"
      ]
     },
     "execution_count": 15,
     "metadata": {},
     "output_type": "execute_result"
    }
   ],
   "source": [
    "df.filter(pl.col(\"days_since_start\") == 112).filter(pl.sum_horizontal(pl.all().is_null()) <= 40).collect()"
   ]
  },
  {
   "cell_type": "code",
   "execution_count": null,
   "metadata": {},
   "outputs": [],
   "source": [
    "last_day_df = df.filter(pl.col(\"days_since_start\") == 112).fill_null(0).collect()\n",
    "relevant_clients = np.load(\"data/original_data/input/relevant_clients.npy\", allow_pickle=True)"
   ]
  },
  {
   "cell_type": "code",
   "execution_count": 34,
   "metadata": {},
   "outputs": [
    {
     "data": {
      "text/html": [
       "<div><style>\n",
       ".dataframe > thead > tr,\n",
       ".dataframe > tbody > tr {\n",
       "  text-align: right;\n",
       "  white-space: pre-wrap;\n",
       "}\n",
       "</style>\n",
       "<small>shape: (5_039_846, 70)</small><table border=\"1\" class=\"dataframe\"><thead><tr><th>client_id</th><th>week0_count_add_to_cart</th><th>week0_most_common_item_add_to_cart</th><th>week0_most_common_cat_add_to_cart</th><th>week0_avg_price_add_to_cart</th><th>week0_most_common_price_add_to_cart</th><th>week0_count_remove_from_cart</th><th>week0_most_common_item_remove_from_cart</th><th>week0_most_common_cat_remove_from_cart</th><th>week0_avg_price_remove_from_cart</th><th>week0_most_common_price_remove_from_cart</th><th>week0_count_product_buy</th><th>week0_most_common_item_product_buy</th><th>week0_most_common_cat_product_buy</th><th>week0_avg_price_product_buy</th><th>week0_most_common_price_product_buy</th><th>week0_page_visits_count</th><th>week0_search_query_count</th><th>week1_count_add_to_cart</th><th>week1_most_common_item_add_to_cart</th><th>week1_most_common_cat_add_to_cart</th><th>week1_avg_price_add_to_cart</th><th>week1_most_common_price_add_to_cart</th><th>week1_count_remove_from_cart</th><th>week1_most_common_item_remove_from_cart</th><th>week1_most_common_cat_remove_from_cart</th><th>week1_avg_price_remove_from_cart</th><th>week1_most_common_price_remove_from_cart</th><th>week1_count_product_buy</th><th>week1_most_common_item_product_buy</th><th>week1_most_common_cat_product_buy</th><th>week1_avg_price_product_buy</th><th>week1_most_common_price_product_buy</th><th>week1_page_visits_count</th><th>week1_search_query_count</th><th>week2_count_add_to_cart</th><th>week2_most_common_item_add_to_cart</th><th>week2_most_common_cat_add_to_cart</th><th>week2_avg_price_add_to_cart</th><th>week2_most_common_price_add_to_cart</th><th>week2_count_remove_from_cart</th><th>week2_most_common_item_remove_from_cart</th><th>week2_most_common_cat_remove_from_cart</th><th>week2_avg_price_remove_from_cart</th><th>week2_most_common_price_remove_from_cart</th><th>week2_count_product_buy</th><th>week2_most_common_item_product_buy</th><th>week2_most_common_cat_product_buy</th><th>week2_avg_price_product_buy</th><th>week2_most_common_price_product_buy</th><th>week2_page_visits_count</th><th>week2_search_query_count</th><th>week3_count_add_to_cart</th><th>week3_most_common_item_add_to_cart</th><th>week3_most_common_cat_add_to_cart</th><th>week3_avg_price_add_to_cart</th><th>week3_most_common_price_add_to_cart</th><th>week3_count_remove_from_cart</th><th>week3_most_common_item_remove_from_cart</th><th>week3_most_common_cat_remove_from_cart</th><th>week3_avg_price_remove_from_cart</th><th>week3_most_common_price_remove_from_cart</th><th>week3_count_product_buy</th><th>week3_most_common_item_product_buy</th><th>week3_most_common_cat_product_buy</th><th>week3_avg_price_product_buy</th><th>week3_most_common_price_product_buy</th><th>week3_page_visits_count</th><th>week3_search_query_count</th><th>days_since_start</th></tr><tr><td>i64</td><td>u32</td><td>i64</td><td>i64</td><td>f64</td><td>i64</td><td>u32</td><td>i64</td><td>i64</td><td>f64</td><td>i64</td><td>u32</td><td>i64</td><td>i64</td><td>f64</td><td>i64</td><td>u32</td><td>u32</td><td>u32</td><td>i64</td><td>i64</td><td>f64</td><td>i64</td><td>u32</td><td>i64</td><td>i64</td><td>f64</td><td>i64</td><td>u32</td><td>i64</td><td>i64</td><td>f64</td><td>i64</td><td>u32</td><td>u32</td><td>u32</td><td>i64</td><td>i64</td><td>f64</td><td>i64</td><td>u32</td><td>i64</td><td>i64</td><td>f64</td><td>i64</td><td>u32</td><td>i64</td><td>i64</td><td>f64</td><td>i64</td><td>u32</td><td>u32</td><td>u32</td><td>i64</td><td>i64</td><td>f64</td><td>i64</td><td>u32</td><td>i64</td><td>i64</td><td>f64</td><td>i64</td><td>u32</td><td>i64</td><td>i64</td><td>f64</td><td>i64</td><td>u32</td><td>u32</td><td>i32</td></tr></thead><tbody><tr><td>16936473</td><td>0</td><td>0</td><td>0</td><td>0.0</td><td>0</td><td>0</td><td>0</td><td>0</td><td>0.0</td><td>0</td><td>0</td><td>0</td><td>0</td><td>0.0</td><td>0</td><td>1</td><td>0</td><td>0</td><td>0</td><td>0</td><td>0.0</td><td>0</td><td>0</td><td>0</td><td>0</td><td>0.0</td><td>0</td><td>0</td><td>0</td><td>0</td><td>0.0</td><td>0</td><td>17</td><td>0</td><td>0</td><td>0</td><td>0</td><td>0.0</td><td>0</td><td>0</td><td>0</td><td>0</td><td>0.0</td><td>0</td><td>0</td><td>0</td><td>0</td><td>0.0</td><td>0</td><td>0</td><td>0</td><td>0</td><td>0</td><td>0</td><td>0.0</td><td>0</td><td>0</td><td>0</td><td>0</td><td>0.0</td><td>0</td><td>0</td><td>0</td><td>0</td><td>0.0</td><td>0</td><td>0</td><td>0</td><td>112</td></tr><tr><td>5120546</td><td>0</td><td>0</td><td>0</td><td>0.0</td><td>0</td><td>0</td><td>0</td><td>0</td><td>0.0</td><td>0</td><td>0</td><td>0</td><td>0</td><td>0.0</td><td>0</td><td>0</td><td>0</td><td>0</td><td>0</td><td>0</td><td>0.0</td><td>0</td><td>0</td><td>0</td><td>0</td><td>0.0</td><td>0</td><td>0</td><td>0</td><td>0</td><td>0.0</td><td>0</td><td>2</td><td>0</td><td>0</td><td>0</td><td>0</td><td>0.0</td><td>0</td><td>0</td><td>0</td><td>0</td><td>0.0</td><td>0</td><td>0</td><td>0</td><td>0</td><td>0.0</td><td>0</td><td>0</td><td>0</td><td>0</td><td>0</td><td>0</td><td>0.0</td><td>0</td><td>0</td><td>0</td><td>0</td><td>0.0</td><td>0</td><td>0</td><td>0</td><td>0</td><td>0.0</td><td>0</td><td>0</td><td>0</td><td>112</td></tr><tr><td>16337559</td><td>0</td><td>0</td><td>0</td><td>0.0</td><td>0</td><td>0</td><td>0</td><td>0</td><td>0.0</td><td>0</td><td>0</td><td>0</td><td>0</td><td>0.0</td><td>0</td><td>0</td><td>0</td><td>0</td><td>0</td><td>0</td><td>0.0</td><td>0</td><td>0</td><td>0</td><td>0</td><td>0.0</td><td>0</td><td>0</td><td>0</td><td>0</td><td>0.0</td><td>0</td><td>1</td><td>0</td><td>0</td><td>0</td><td>0</td><td>0.0</td><td>0</td><td>0</td><td>0</td><td>0</td><td>0.0</td><td>0</td><td>0</td><td>0</td><td>0</td><td>0.0</td><td>0</td><td>0</td><td>0</td><td>0</td><td>0</td><td>0</td><td>0.0</td><td>0</td><td>0</td><td>0</td><td>0</td><td>0.0</td><td>0</td><td>0</td><td>0</td><td>0</td><td>0.0</td><td>0</td><td>0</td><td>0</td><td>112</td></tr><tr><td>4669633</td><td>0</td><td>0</td><td>0</td><td>0.0</td><td>0</td><td>0</td><td>0</td><td>0</td><td>0.0</td><td>0</td><td>0</td><td>0</td><td>0</td><td>0.0</td><td>0</td><td>0</td><td>0</td><td>0</td><td>0</td><td>0</td><td>0.0</td><td>0</td><td>0</td><td>0</td><td>0</td><td>0.0</td><td>0</td><td>0</td><td>0</td><td>0</td><td>0.0</td><td>0</td><td>1</td><td>0</td><td>0</td><td>0</td><td>0</td><td>0.0</td><td>0</td><td>0</td><td>0</td><td>0</td><td>0.0</td><td>0</td><td>0</td><td>0</td><td>0</td><td>0.0</td><td>0</td><td>0</td><td>0</td><td>0</td><td>0</td><td>0</td><td>0.0</td><td>0</td><td>0</td><td>0</td><td>0</td><td>0.0</td><td>0</td><td>0</td><td>0</td><td>0</td><td>0.0</td><td>0</td><td>0</td><td>0</td><td>112</td></tr><tr><td>19993536</td><td>0</td><td>0</td><td>0</td><td>0.0</td><td>0</td><td>0</td><td>0</td><td>0</td><td>0.0</td><td>0</td><td>0</td><td>0</td><td>0</td><td>0.0</td><td>0</td><td>0</td><td>0</td><td>0</td><td>0</td><td>0</td><td>0.0</td><td>0</td><td>0</td><td>0</td><td>0</td><td>0.0</td><td>0</td><td>0</td><td>0</td><td>0</td><td>0.0</td><td>0</td><td>1</td><td>0</td><td>0</td><td>0</td><td>0</td><td>0.0</td><td>0</td><td>0</td><td>0</td><td>0</td><td>0.0</td><td>0</td><td>0</td><td>0</td><td>0</td><td>0.0</td><td>0</td><td>0</td><td>0</td><td>0</td><td>0</td><td>0</td><td>0.0</td><td>0</td><td>0</td><td>0</td><td>0</td><td>0.0</td><td>0</td><td>0</td><td>0</td><td>0</td><td>0.0</td><td>0</td><td>0</td><td>0</td><td>112</td></tr><tr><td>&hellip;</td><td>&hellip;</td><td>&hellip;</td><td>&hellip;</td><td>&hellip;</td><td>&hellip;</td><td>&hellip;</td><td>&hellip;</td><td>&hellip;</td><td>&hellip;</td><td>&hellip;</td><td>&hellip;</td><td>&hellip;</td><td>&hellip;</td><td>&hellip;</td><td>&hellip;</td><td>&hellip;</td><td>&hellip;</td><td>&hellip;</td><td>&hellip;</td><td>&hellip;</td><td>&hellip;</td><td>&hellip;</td><td>&hellip;</td><td>&hellip;</td><td>&hellip;</td><td>&hellip;</td><td>&hellip;</td><td>&hellip;</td><td>&hellip;</td><td>&hellip;</td><td>&hellip;</td><td>&hellip;</td><td>&hellip;</td><td>&hellip;</td><td>&hellip;</td><td>&hellip;</td><td>&hellip;</td><td>&hellip;</td><td>&hellip;</td><td>&hellip;</td><td>&hellip;</td><td>&hellip;</td><td>&hellip;</td><td>&hellip;</td><td>&hellip;</td><td>&hellip;</td><td>&hellip;</td><td>&hellip;</td><td>&hellip;</td><td>&hellip;</td><td>&hellip;</td><td>&hellip;</td><td>&hellip;</td><td>&hellip;</td><td>&hellip;</td><td>&hellip;</td><td>&hellip;</td><td>&hellip;</td><td>&hellip;</td><td>&hellip;</td><td>&hellip;</td><td>&hellip;</td><td>&hellip;</td><td>&hellip;</td><td>&hellip;</td><td>&hellip;</td><td>&hellip;</td><td>&hellip;</td><td>&hellip;</td></tr><tr><td>17743930</td><td>0</td><td>0</td><td>0</td><td>0.0</td><td>0</td><td>0</td><td>0</td><td>0</td><td>0.0</td><td>0</td><td>0</td><td>0</td><td>0</td><td>0.0</td><td>0</td><td>0</td><td>0</td><td>0</td><td>0</td><td>0</td><td>0.0</td><td>0</td><td>0</td><td>0</td><td>0</td><td>0.0</td><td>0</td><td>0</td><td>0</td><td>0</td><td>0.0</td><td>0</td><td>0</td><td>0</td><td>0</td><td>0</td><td>0</td><td>0.0</td><td>0</td><td>0</td><td>0</td><td>0</td><td>0.0</td><td>0</td><td>0</td><td>0</td><td>0</td><td>0.0</td><td>0</td><td>0</td><td>0</td><td>0</td><td>0</td><td>0</td><td>0.0</td><td>0</td><td>0</td><td>0</td><td>0</td><td>0.0</td><td>0</td><td>0</td><td>0</td><td>0</td><td>0.0</td><td>0</td><td>2</td><td>0</td><td>112</td></tr><tr><td>10183114</td><td>0</td><td>0</td><td>0</td><td>0.0</td><td>0</td><td>0</td><td>0</td><td>0</td><td>0.0</td><td>0</td><td>0</td><td>0</td><td>0</td><td>0.0</td><td>0</td><td>0</td><td>0</td><td>0</td><td>0</td><td>0</td><td>0.0</td><td>0</td><td>0</td><td>0</td><td>0</td><td>0.0</td><td>0</td><td>0</td><td>0</td><td>0</td><td>0.0</td><td>0</td><td>0</td><td>0</td><td>0</td><td>0</td><td>0</td><td>0.0</td><td>0</td><td>0</td><td>0</td><td>0</td><td>0.0</td><td>0</td><td>0</td><td>0</td><td>0</td><td>0.0</td><td>0</td><td>0</td><td>0</td><td>0</td><td>0</td><td>0</td><td>0.0</td><td>0</td><td>0</td><td>0</td><td>0</td><td>0.0</td><td>0</td><td>0</td><td>0</td><td>0</td><td>0.0</td><td>0</td><td>1</td><td>0</td><td>112</td></tr><tr><td>19043749</td><td>0</td><td>0</td><td>0</td><td>0.0</td><td>0</td><td>0</td><td>0</td><td>0</td><td>0.0</td><td>0</td><td>0</td><td>0</td><td>0</td><td>0.0</td><td>0</td><td>0</td><td>0</td><td>0</td><td>0</td><td>0</td><td>0.0</td><td>0</td><td>0</td><td>0</td><td>0</td><td>0.0</td><td>0</td><td>0</td><td>0</td><td>0</td><td>0.0</td><td>0</td><td>0</td><td>0</td><td>0</td><td>0</td><td>0</td><td>0.0</td><td>0</td><td>0</td><td>0</td><td>0</td><td>0.0</td><td>0</td><td>0</td><td>0</td><td>0</td><td>0.0</td><td>0</td><td>0</td><td>0</td><td>0</td><td>0</td><td>0</td><td>0.0</td><td>0</td><td>0</td><td>0</td><td>0</td><td>0.0</td><td>0</td><td>0</td><td>0</td><td>0</td><td>0.0</td><td>0</td><td>1</td><td>0</td><td>112</td></tr><tr><td>20731371</td><td>0</td><td>0</td><td>0</td><td>0.0</td><td>0</td><td>0</td><td>0</td><td>0</td><td>0.0</td><td>0</td><td>0</td><td>0</td><td>0</td><td>0.0</td><td>0</td><td>0</td><td>0</td><td>0</td><td>0</td><td>0</td><td>0.0</td><td>0</td><td>0</td><td>0</td><td>0</td><td>0.0</td><td>0</td><td>0</td><td>0</td><td>0</td><td>0.0</td><td>0</td><td>0</td><td>0</td><td>0</td><td>0</td><td>0</td><td>0.0</td><td>0</td><td>0</td><td>0</td><td>0</td><td>0.0</td><td>0</td><td>0</td><td>0</td><td>0</td><td>0.0</td><td>0</td><td>0</td><td>0</td><td>1</td><td>320856</td><td>5562</td><td>84.0</td><td>84</td><td>0</td><td>0</td><td>0</td><td>0.0</td><td>0</td><td>1</td><td>320856</td><td>5562</td><td>84.0</td><td>84</td><td>18</td><td>0</td><td>112</td></tr><tr><td>19191372</td><td>0</td><td>0</td><td>0</td><td>0.0</td><td>0</td><td>0</td><td>0</td><td>0</td><td>0.0</td><td>0</td><td>0</td><td>0</td><td>0</td><td>0.0</td><td>0</td><td>0</td><td>0</td><td>0</td><td>0</td><td>0</td><td>0.0</td><td>0</td><td>0</td><td>0</td><td>0</td><td>0.0</td><td>0</td><td>0</td><td>0</td><td>0</td><td>0.0</td><td>0</td><td>0</td><td>0</td><td>0</td><td>0</td><td>0</td><td>0.0</td><td>0</td><td>0</td><td>0</td><td>0</td><td>0.0</td><td>0</td><td>0</td><td>0</td><td>0</td><td>0.0</td><td>0</td><td>0</td><td>0</td><td>0</td><td>0</td><td>0</td><td>0.0</td><td>0</td><td>0</td><td>0</td><td>0</td><td>0.0</td><td>0</td><td>0</td><td>0</td><td>0</td><td>0.0</td><td>0</td><td>5</td><td>0</td><td>112</td></tr></tbody></table></div>"
      ],
      "text/plain": [
       "shape: (5_039_846, 70)\n",
       "┌───────────┬───────────┬───────────┬───────────┬───┬───────────┬───────────┬───────────┬──────────┐\n",
       "│ client_id ┆ week0_cou ┆ week0_mos ┆ week0_mos ┆ … ┆ week3_mos ┆ week3_pag ┆ week3_sea ┆ days_sin │\n",
       "│ ---       ┆ nt_add_to ┆ t_common_ ┆ t_common_ ┆   ┆ t_common_ ┆ e_visits_ ┆ rch_query ┆ ce_start │\n",
       "│ i64       ┆ _cart     ┆ item_add_ ┆ cat_add_t ┆   ┆ price_pro ┆ count     ┆ _count    ┆ ---      │\n",
       "│           ┆ ---       ┆ to_…      ┆ o_c…      ┆   ┆ duc…      ┆ ---       ┆ ---       ┆ i32      │\n",
       "│           ┆ u32       ┆ ---       ┆ ---       ┆   ┆ ---       ┆ u32       ┆ u32       ┆          │\n",
       "│           ┆           ┆ i64       ┆ i64       ┆   ┆ i64       ┆           ┆           ┆          │\n",
       "╞═══════════╪═══════════╪═══════════╪═══════════╪═══╪═══════════╪═══════════╪═══════════╪══════════╡\n",
       "│ 16936473  ┆ 0         ┆ 0         ┆ 0         ┆ … ┆ 0         ┆ 0         ┆ 0         ┆ 112      │\n",
       "│ 5120546   ┆ 0         ┆ 0         ┆ 0         ┆ … ┆ 0         ┆ 0         ┆ 0         ┆ 112      │\n",
       "│ 16337559  ┆ 0         ┆ 0         ┆ 0         ┆ … ┆ 0         ┆ 0         ┆ 0         ┆ 112      │\n",
       "│ 4669633   ┆ 0         ┆ 0         ┆ 0         ┆ … ┆ 0         ┆ 0         ┆ 0         ┆ 112      │\n",
       "│ 19993536  ┆ 0         ┆ 0         ┆ 0         ┆ … ┆ 0         ┆ 0         ┆ 0         ┆ 112      │\n",
       "│ …         ┆ …         ┆ …         ┆ …         ┆ … ┆ …         ┆ …         ┆ …         ┆ …        │\n",
       "│ 17743930  ┆ 0         ┆ 0         ┆ 0         ┆ … ┆ 0         ┆ 2         ┆ 0         ┆ 112      │\n",
       "│ 10183114  ┆ 0         ┆ 0         ┆ 0         ┆ … ┆ 0         ┆ 1         ┆ 0         ┆ 112      │\n",
       "│ 19043749  ┆ 0         ┆ 0         ┆ 0         ┆ … ┆ 0         ┆ 1         ┆ 0         ┆ 112      │\n",
       "│ 20731371  ┆ 0         ┆ 0         ┆ 0         ┆ … ┆ 84        ┆ 18        ┆ 0         ┆ 112      │\n",
       "│ 19191372  ┆ 0         ┆ 0         ┆ 0         ┆ … ┆ 0         ┆ 5         ┆ 0         ┆ 112      │\n",
       "└───────────┴───────────┴───────────┴───────────┴───┴───────────┴───────────┴───────────┴──────────┘"
      ]
     },
     "execution_count": 34,
     "metadata": {},
     "output_type": "execute_result"
    }
   ],
   "source": [
    "last_day_df"
   ]
  },
  {
   "cell_type": "code",
   "execution_count": 45,
   "metadata": {},
   "outputs": [
    {
     "name": "stdout",
     "output_type": "stream",
     "text": [
      "0\n",
      "10000\n",
      "20000\n"
     ]
    },
    {
     "ename": "KeyboardInterrupt",
     "evalue": "",
     "output_type": "error",
     "traceback": [
      "\u001b[31m---------------------------------------------------------------------------\u001b[39m",
      "\u001b[31mKeyboardInterrupt\u001b[39m                         Traceback (most recent call last)",
      "\u001b[32m/tmp/ipykernel_29083/947401684.py\u001b[39m in \u001b[36m?\u001b[39m\u001b[34m()\u001b[39m\n\u001b[32m      3\u001b[39m     \u001b[38;5;28;01mif\u001b[39;00m i % \u001b[32m10000\u001b[39m == \u001b[32m0\u001b[39m:\n\u001b[32m      4\u001b[39m         print(i)\n\u001b[32m      5\u001b[39m     count_non_existing = \u001b[32m0\u001b[39m\n\u001b[32m      6\u001b[39m     client_df = last_day_df.filter(pl.col(\u001b[33m\"client_id\"\u001b[39m) == client)\n\u001b[32m----> \u001b[39m\u001b[32m7\u001b[39m     embedding = np.array(client_df.select(pl.all().exclude(\u001b[33m\"client_id\"\u001b[39m, \u001b[33m\"days_since_start\"\u001b[39m)).to_numpy(), dtype=np.float32)\n\u001b[32m      8\u001b[39m     \u001b[38;5;28;01mif\u001b[39;00m embedding.shape[\u001b[32m0\u001b[39m] == \u001b[32m0\u001b[39m:\n\u001b[32m      9\u001b[39m         count_non_existing += \u001b[32m1\u001b[39m\n\u001b[32m     10\u001b[39m         \u001b[38;5;28;01mcontinue\u001b[39;00m\n",
      "\u001b[32m~/python-projects/recsys25/.venv/lib/python3.12/site-packages/polars/dataframe/frame.py\u001b[39m in \u001b[36m?\u001b[39m\u001b[34m(self, order, writable, allow_copy, structured, use_pyarrow)\u001b[39m\n\u001b[32m   1888\u001b[39m             \u001b[38;5;28;01mfor\u001b[39;00m idx, c \u001b[38;5;28;01min\u001b[39;00m enumerate(self.columns):\n\u001b[32m   1889\u001b[39m                 out[c] = arrays[idx]\n\u001b[32m   1890\u001b[39m             \u001b[38;5;28;01mreturn\u001b[39;00m out\n\u001b[32m   1891\u001b[39m \n\u001b[32m-> \u001b[39m\u001b[32m1892\u001b[39m         \u001b[38;5;28;01mreturn\u001b[39;00m self._df.to_numpy(order, writable=writable, allow_copy=allow_copy)\n",
      "\u001b[31mKeyboardInterrupt\u001b[39m: "
     ]
    }
   ],
   "source": [
    "embeddings = np.zeros((1000000, 68), dtype=np.float32)\n",
    "for i, client in enumerate(relevant_clients):\n",
    "    if i % 10000 == 0:\n",
    "        print(i)\n",
    "    count_non_existing = 0\n",
    "    client_df = last_day_df.filter(pl.col(\"client_id\") == client)\n",
    "    embedding = np.array(client_df.select(pl.all().exclude(\"client_id\", \"days_since_start\")).to_numpy(), dtype=np.float32)\n",
    "    if embedding.shape[0] == 0:\n",
    "        count_non_existing += 1\n",
    "        continue\n",
    "    else:\n",
    "        embeddings[i] = embedding\n",
    "count_non_existing"
   ]
  },
  {
   "cell_type": "code",
   "execution_count": 31,
   "metadata": {},
   "outputs": [
    {
     "data": {
      "text/plain": [
       "array([ 5963217, 17797869, 18408314, ..., 22423862, 16846917, 14884775])"
      ]
     },
     "execution_count": 31,
     "metadata": {},
     "output_type": "execute_result"
    }
   ],
   "source": [
    "relevant_clients"
   ]
  },
  {
   "cell_type": "code",
   "execution_count": 61,
   "metadata": {},
   "outputs": [],
   "source": [
    "clients_df = pl.DataFrame({\"client_id\": relevant_clients})\n",
    "merged_df = clients_df.join(last_day_df, on=\"client_id\", how=\"left\")\n",
    "embeddings = merged_df.select(pl.all().exclude(\"client_id\", \"days_since_start\")).fill_null(0)\n",
    "numpy_embeddings = embeddings.to_numpy().astype(np.float32)\n"
   ]
  },
  {
   "cell_type": "code",
   "execution_count": 62,
   "metadata": {},
   "outputs": [],
   "source": [
    "from sklearn.preprocessing import StandardScaler\n",
    "scaler = StandardScaler()\n",
    "scaler.fit(numpy_embeddings)\n",
    "scaled_embeddings = scaler.transform(numpy_embeddings)"
   ]
  },
  {
   "cell_type": "code",
   "execution_count": 63,
   "metadata": {},
   "outputs": [],
   "source": [
    "np.save(\"solutions/our_baseline/embeddings.npy\", scaled_embeddings.astype(np.float16))\n",
    "np.save(\"solutions/our_baseline/client_ids.npy\", relevant_clients)"
   ]
  },
  {
   "cell_type": "code",
   "execution_count": 64,
   "metadata": {},
   "outputs": [
    {
     "data": {
      "text/plain": [
       "array([[-0.10838069, -0.1881625 , -0.19058354, ..., -0.17338677,\n",
       "        -0.15333551, -0.09573751],\n",
       "       [-0.10838069, -0.1881625 , -0.19058354, ..., -0.17338677,\n",
       "        -0.15333551, -0.09573751],\n",
       "       [-0.10838069, -0.1881625 , -0.19058354, ..., -0.17338677,\n",
       "        -0.15333551, -0.09573751],\n",
       "       ...,\n",
       "       [-0.10838069, -0.1881625 , -0.19058354, ..., -0.17338677,\n",
       "        -0.15333551, -0.09573751],\n",
       "       [-0.10838069, -0.1881625 , -0.19058354, ..., -0.17338677,\n",
       "        -0.15333551, -0.09573751],\n",
       "       [-0.10838069, -0.1881625 , -0.19058354, ..., -0.17338677,\n",
       "        -0.15333551, -0.09573751]], dtype=float32)"
      ]
     },
     "execution_count": 64,
     "metadata": {},
     "output_type": "execute_result"
    }
   ],
   "source": [
    "scaled_embeddings"
   ]
  },
  {
   "cell_type": "code",
   "execution_count": 74,
   "metadata": {},
   "outputs": [
    {
     "data": {
      "text/plain": [
       "(858489, 320)"
      ]
     },
     "execution_count": 74,
     "metadata": {},
     "output_type": "execute_result"
    }
   ],
   "source": [
    "syn_embeddings = np.load(\"solutions/baseline-provided-by-synerise/embeddings.npy\", allow_pickle=True)\n",
    "syn_embeddings.shape"
   ]
  },
  {
   "cell_type": "code",
   "execution_count": null,
   "metadata": {},
   "outputs": [],
   "source": []
  },
  {
   "cell_type": "code",
   "execution_count": null,
   "metadata": {},
   "outputs": [],
   "source": []
  }
 ],
 "metadata": {
  "kernelspec": {
   "display_name": ".venv",
   "language": "python",
   "name": "python3"
  },
  "language_info": {
   "codemirror_mode": {
    "name": "ipython",
    "version": 3
   },
   "file_extension": ".py",
   "mimetype": "text/x-python",
   "name": "python",
   "nbconvert_exporter": "python",
   "pygments_lexer": "ipython3",
   "version": "3.12.3"
  }
 },
 "nbformat": 4,
 "nbformat_minor": 2
}

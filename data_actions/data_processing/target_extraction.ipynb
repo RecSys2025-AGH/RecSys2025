{
 "cells": [
  {
   "cell_type": "code",
   "execution_count": 7,
   "metadata": {},
   "outputs": [],
   "source": [
    "import polars as pl\n",
    "import numpy as np"
   ]
  },
  {
   "cell_type": "markdown",
   "metadata": {},
   "source": [
    "# In this file, we will try to extract the target values"
   ]
  },
  {
   "cell_type": "code",
   "execution_count": 6,
   "metadata": {},
   "outputs": [
    {
     "data": {
      "text/html": [
       "<div><style>\n",
       ".dataframe > thead > tr,\n",
       ".dataframe > tbody > tr {\n",
       "  text-align: right;\n",
       "  white-space: pre-wrap;\n",
       "}\n",
       "</style>\n",
       "<small>shape: (173_646, 6)</small><table border=\"1\" class=\"dataframe\"><thead><tr><th>client_id</th><th>timestamp</th><th>sku</th><th>category</th><th>price</th><th>name</th></tr><tr><td>i64</td><td>datetime[ns]</td><td>i64</td><td>i64</td><td>i64</td><td>str</td></tr></thead><tbody><tr><td>20673586</td><td>2022-09-15 07:08:15</td><td>1121365</td><td>2027</td><td>82</td><td>&quot;[208 227 135&nbsp;&nbsp;59&nbsp;&nbsp;56&nbsp;&nbsp;16&nbsp;&nbsp;14 2…</td></tr><tr><td>7663245</td><td>2022-09-16 16:20:55</td><td>541046</td><td>4981</td><td>57</td><td>&quot;[ 38&nbsp;&nbsp;61 112 239 236 139&nbsp;&nbsp;59 2…</td></tr><tr><td>23379942</td><td>2022-09-15 08:00:45</td><td>343231</td><td>6214</td><td>23</td><td>&quot;[ 44 226 110&nbsp;&nbsp;&nbsp;8 104 104&nbsp;&nbsp;17&nbsp;&nbsp;…</td></tr><tr><td>23379942</td><td>2022-09-15 08:00:45</td><td>1404198</td><td>335</td><td>29</td><td>&quot;[ 98 104 104 198 104 237 140&nbsp;&nbsp;…</td></tr><tr><td>778845</td><td>2022-09-25 06:14:20</td><td>769663</td><td>2882</td><td>49</td><td>&quot;[ 58 132 229&nbsp;&nbsp;63 231 222&nbsp;&nbsp;25 1…</td></tr><tr><td>&hellip;</td><td>&hellip;</td><td>&hellip;</td><td>&hellip;</td><td>&hellip;</td><td>&hellip;</td></tr><tr><td>16625993</td><td>2022-09-23 18:17:35</td><td>144360</td><td>2651</td><td>85</td><td>&quot;[243 219&nbsp;&nbsp;79&nbsp;&nbsp;94 101&nbsp;&nbsp;73 129&nbsp;&nbsp;…</td></tr><tr><td>7016800</td><td>2022-09-25 06:30:10</td><td>681326</td><td>1507</td><td>72</td><td>&quot;[ 38 188 162 102&nbsp;&nbsp;94&nbsp;&nbsp;75 183 1…</td></tr><tr><td>7016800</td><td>2022-09-25 06:30:10</td><td>681326</td><td>1507</td><td>72</td><td>&quot;[ 38 188 162 102&nbsp;&nbsp;94&nbsp;&nbsp;75 183 1…</td></tr><tr><td>23381803</td><td>2022-09-13 17:34:40</td><td>338825</td><td>3061</td><td>45</td><td>&quot;[ 98 185&nbsp;&nbsp;47 230 145&nbsp;&nbsp;31 220 2…</td></tr><tr><td>7535041</td><td>2022-09-17 06:07:10</td><td>1316539</td><td>4746</td><td>85</td><td>&quot;[ 44 196 149 176&nbsp;&nbsp;74&nbsp;&nbsp;&nbsp;2 176 1…</td></tr></tbody></table></div>"
      ],
      "text/plain": [
       "shape: (173_646, 6)\n",
       "┌───────────┬─────────────────────┬─────────┬──────────┬───────┬─────────────────────────────────┐\n",
       "│ client_id ┆ timestamp           ┆ sku     ┆ category ┆ price ┆ name                            │\n",
       "│ ---       ┆ ---                 ┆ ---     ┆ ---      ┆ ---   ┆ ---                             │\n",
       "│ i64       ┆ datetime[ns]        ┆ i64     ┆ i64      ┆ i64   ┆ str                             │\n",
       "╞═══════════╪═════════════════════╪═════════╪══════════╪═══════╪═════════════════════════════════╡\n",
       "│ 20673586  ┆ 2022-09-15 07:08:15 ┆ 1121365 ┆ 2027     ┆ 82    ┆ [208 227 135  59  56  16  14 2… │\n",
       "│ 7663245   ┆ 2022-09-16 16:20:55 ┆ 541046  ┆ 4981     ┆ 57    ┆ [ 38  61 112 239 236 139  59 2… │\n",
       "│ 23379942  ┆ 2022-09-15 08:00:45 ┆ 343231  ┆ 6214     ┆ 23    ┆ [ 44 226 110   8 104 104  17  … │\n",
       "│ 23379942  ┆ 2022-09-15 08:00:45 ┆ 1404198 ┆ 335      ┆ 29    ┆ [ 98 104 104 198 104 237 140  … │\n",
       "│ 778845    ┆ 2022-09-25 06:14:20 ┆ 769663  ┆ 2882     ┆ 49    ┆ [ 58 132 229  63 231 222  25 1… │\n",
       "│ …         ┆ …                   ┆ …       ┆ …        ┆ …     ┆ …                               │\n",
       "│ 16625993  ┆ 2022-09-23 18:17:35 ┆ 144360  ┆ 2651     ┆ 85    ┆ [243 219  79  94 101  73 129  … │\n",
       "│ 7016800   ┆ 2022-09-25 06:30:10 ┆ 681326  ┆ 1507     ┆ 72    ┆ [ 38 188 162 102  94  75 183 1… │\n",
       "│ 7016800   ┆ 2022-09-25 06:30:10 ┆ 681326  ┆ 1507     ┆ 72    ┆ [ 38 188 162 102  94  75 183 1… │\n",
       "│ 23381803  ┆ 2022-09-13 17:34:40 ┆ 338825  ┆ 3061     ┆ 45    ┆ [ 98 185  47 230 145  31 220 2… │\n",
       "│ 7535041   ┆ 2022-09-17 06:07:10 ┆ 1316539 ┆ 4746     ┆ 85    ┆ [ 44 196 149 176  74   2 176 1… │\n",
       "└───────────┴─────────────────────┴─────────┴──────────┴───────┴─────────────────────────────────┘"
      ]
     },
     "execution_count": 6,
     "metadata": {},
     "output_type": "execute_result"
    }
   ],
   "source": [
    "df = pl.read_parquet(\"data/original_data/target/train_target.parquet\")\n",
    "df"
   ]
  },
  {
   "cell_type": "code",
   "execution_count": 10,
   "metadata": {},
   "outputs": [
    {
     "data": {
      "text/plain": [
       "array([  10748,   26580,   56333,   63180,   70861,  171326,  212974,\n",
       "        215301,  216320,  268865,  276277,  315183,  327962,  374236,\n",
       "        425767,  429454,  441793,  462220,  480971,  480990,  486328,\n",
       "        490159,  513318,  517203,  521098,  524278,  530463,  530712,\n",
       "        551965,  568850,  573483,  589905,  593173,  596667,  604561,\n",
       "        604930,  615613,  623079,  634860,  639211,  648406,  652232,\n",
       "        674809,  694004,  697164,  725337,  730938,  744922,  745147,\n",
       "        792083,  832052,  858395,  894503,  937289,  937363,  955630,\n",
       "        977263, 1006704, 1011985, 1016260, 1031415, 1035067, 1057932,\n",
       "       1068071, 1103443, 1113305, 1163737, 1182726, 1188577, 1199505,\n",
       "       1204414, 1211547, 1212502, 1218468, 1219439, 1286802, 1292584,\n",
       "       1296990, 1324740, 1326077, 1329094, 1347135, 1354299, 1363458,\n",
       "       1366654, 1369057, 1375377, 1388714, 1396383, 1427914, 1434568,\n",
       "       1439500, 1446073, 1448862, 1456118, 1462016, 1465177, 1466277,\n",
       "       1470734, 1471628])"
      ]
     },
     "execution_count": 10,
     "metadata": {},
     "output_type": "execute_result"
    }
   ],
   "source": [
    "items = np.load(\"data/original_data/target/propensity_sku.npy\", allow_pickle=True)\n",
    "items.sort()\n",
    "items"
   ]
  },
  {
   "cell_type": "code",
   "execution_count": 13,
   "metadata": {},
   "outputs": [
    {
     "data": {
      "text/html": [
       "<div><style>\n",
       ".dataframe > thead > tr,\n",
       ".dataframe > tbody > tr {\n",
       "  text-align: right;\n",
       "  white-space: pre-wrap;\n",
       "}\n",
       "</style>\n",
       "<small>shape: (3_344, 6)</small><table border=\"1\" class=\"dataframe\"><thead><tr><th>client_id</th><th>timestamp</th><th>sku</th><th>category</th><th>price</th><th>name</th></tr><tr><td>i64</td><td>datetime[ns]</td><td>i64</td><td>i64</td><td>i64</td><td>str</td></tr></thead><tbody><tr><td>9858835</td><td>2022-09-18 17:48:25</td><td>1427914</td><td>6488</td><td>0</td><td>&quot;[223&nbsp;&nbsp;40&nbsp;&nbsp;62 108 129&nbsp;&nbsp;64 199 2…</td></tr><tr><td>4688380</td><td>2022-09-18 16:07:10</td><td>551965</td><td>5323</td><td>24</td><td>&quot;[ 23&nbsp;&nbsp;23&nbsp;&nbsp;23&nbsp;&nbsp;23&nbsp;&nbsp;23&nbsp;&nbsp;23&nbsp;&nbsp;23 2…</td></tr><tr><td>21527708</td><td>2022-09-17 14:15:40</td><td>429454</td><td>3827</td><td>72</td><td>&quot;[ 38 137 219&nbsp;&nbsp;13 137&nbsp;&nbsp;38 137 1…</td></tr><tr><td>19702477</td><td>2022-09-25 11:01:59</td><td>490159</td><td>3944</td><td>6</td><td>&quot;[ 63 162 138 145 138 194&nbsp;&nbsp;63 1…</td></tr><tr><td>11707379</td><td>2022-09-16 06:11:15</td><td>568850</td><td>4539</td><td>3</td><td>&quot;[166 130&nbsp;&nbsp;84 239 254 191 165 1…</td></tr><tr><td>&hellip;</td><td>&hellip;</td><td>&hellip;</td><td>&hellip;</td><td>&hellip;</td><td>&hellip;</td></tr><tr><td>23416626</td><td>2022-09-16 18:28:05</td><td>604561</td><td>2655</td><td>46</td><td>&quot;[200&nbsp;&nbsp;78&nbsp;&nbsp;&nbsp;4 147 121 180 116 2…</td></tr><tr><td>10304094</td><td>2022-09-16 18:38:35</td><td>1466277</td><td>3147</td><td>88</td><td>&quot;[161&nbsp;&nbsp;36&nbsp;&nbsp;63 161&nbsp;&nbsp;36&nbsp;&nbsp;10 161 1…</td></tr><tr><td>9446555</td><td>2022-09-13 15:47:10</td><td>480990</td><td>3147</td><td>78</td><td>&quot;[161&nbsp;&nbsp;36 161 161&nbsp;&nbsp;36&nbsp;&nbsp;36 161 1…</td></tr><tr><td>1933650</td><td>2022-09-25 06:47:35</td><td>63180</td><td>2804</td><td>3</td><td>&quot;[ 84&nbsp;&nbsp;84&nbsp;&nbsp;57 100&nbsp;&nbsp;84&nbsp;&nbsp;84&nbsp;&nbsp;84 1…</td></tr><tr><td>3241592</td><td>2022-09-16 18:56:35</td><td>1466277</td><td>3147</td><td>88</td><td>&quot;[161&nbsp;&nbsp;36&nbsp;&nbsp;63 161&nbsp;&nbsp;36&nbsp;&nbsp;10 161 1…</td></tr></tbody></table></div>"
      ],
      "text/plain": [
       "shape: (3_344, 6)\n",
       "┌───────────┬─────────────────────┬─────────┬──────────┬───────┬─────────────────────────────────┐\n",
       "│ client_id ┆ timestamp           ┆ sku     ┆ category ┆ price ┆ name                            │\n",
       "│ ---       ┆ ---                 ┆ ---     ┆ ---      ┆ ---   ┆ ---                             │\n",
       "│ i64       ┆ datetime[ns]        ┆ i64     ┆ i64      ┆ i64   ┆ str                             │\n",
       "╞═══════════╪═════════════════════╪═════════╪══════════╪═══════╪═════════════════════════════════╡\n",
       "│ 9858835   ┆ 2022-09-18 17:48:25 ┆ 1427914 ┆ 6488     ┆ 0     ┆ [223  40  62 108 129  64 199 2… │\n",
       "│ 4688380   ┆ 2022-09-18 16:07:10 ┆ 551965  ┆ 5323     ┆ 24    ┆ [ 23  23  23  23  23  23  23 2… │\n",
       "│ 21527708  ┆ 2022-09-17 14:15:40 ┆ 429454  ┆ 3827     ┆ 72    ┆ [ 38 137 219  13 137  38 137 1… │\n",
       "│ 19702477  ┆ 2022-09-25 11:01:59 ┆ 490159  ┆ 3944     ┆ 6     ┆ [ 63 162 138 145 138 194  63 1… │\n",
       "│ 11707379  ┆ 2022-09-16 06:11:15 ┆ 568850  ┆ 4539     ┆ 3     ┆ [166 130  84 239 254 191 165 1… │\n",
       "│ …         ┆ …                   ┆ …       ┆ …        ┆ …     ┆ …                               │\n",
       "│ 23416626  ┆ 2022-09-16 18:28:05 ┆ 604561  ┆ 2655     ┆ 46    ┆ [200  78   4 147 121 180 116 2… │\n",
       "│ 10304094  ┆ 2022-09-16 18:38:35 ┆ 1466277 ┆ 3147     ┆ 88    ┆ [161  36  63 161  36  10 161 1… │\n",
       "│ 9446555   ┆ 2022-09-13 15:47:10 ┆ 480990  ┆ 3147     ┆ 78    ┆ [161  36 161 161  36  36 161 1… │\n",
       "│ 1933650   ┆ 2022-09-25 06:47:35 ┆ 63180   ┆ 2804     ┆ 3     ┆ [ 84  84  57 100  84  84  84 1… │\n",
       "│ 3241592   ┆ 2022-09-16 18:56:35 ┆ 1466277 ┆ 3147     ┆ 88    ┆ [161  36  63 161  36  10 161 1… │\n",
       "└───────────┴─────────────────────┴─────────┴──────────┴───────┴─────────────────────────────────┘"
      ]
     },
     "execution_count": 13,
     "metadata": {},
     "output_type": "execute_result"
    }
   ],
   "source": [
    "filtered_df = df.filter(pl.col(\"sku\").is_in(items))\n",
    "filtered_df"
   ]
  },
  {
   "cell_type": "code",
   "execution_count": null,
   "metadata": {},
   "outputs": [],
   "source": []
  }
 ],
 "metadata": {
  "kernelspec": {
   "display_name": ".venv",
   "language": "python",
   "name": "python3"
  },
  "language_info": {
   "codemirror_mode": {
    "name": "ipython",
    "version": 3
   },
   "file_extension": ".py",
   "mimetype": "text/x-python",
   "name": "python",
   "nbconvert_exporter": "python",
   "pygments_lexer": "ipython3",
   "version": "3.12.3"
  }
 },
 "nbformat": 4,
 "nbformat_minor": 2
}

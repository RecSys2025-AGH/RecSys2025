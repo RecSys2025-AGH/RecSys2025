{
 "cells": [
  {
   "cell_type": "code",
   "execution_count": 1,
   "metadata": {
    "ExecuteTime": {
     "end_time": "2025-03-20T19:03:19.049316Z",
     "start_time": "2025-03-20T19:03:19.041915Z"
    }
   },
   "outputs": [],
   "source": [
    "import numpy as np\n",
    "import polars as pl\n",
    "import matplotlib.pyplot as plt\n",
    "import data_actions.data_processing.utils as utils"
   ]
  },
  {
   "cell_type": "markdown",
   "metadata": {},
   "source": [
    "# Products data exploration for RecSys 2025\n",
    "\n",
    "For the purpose of the efficiency and processing multiple datasets with millions of rows, we decided to use **Polars** instead of Pandas, because of its Lazy API, which enables us to better manage memory.\n"
   ]
  },
  {
   "cell_type": "code",
   "execution_count": 104,
   "metadata": {
    "ExecuteTime": {
     "end_time": "2025-03-20T19:03:19.077344Z",
     "start_time": "2025-03-20T19:03:19.069278Z"
    }
   },
   "outputs": [],
   "source": [
    "data_folder = \"data/original_data\"\n",
    "data = utils.load_data(data_folder)"
   ]
  },
  {
   "cell_type": "markdown",
   "metadata": {},
   "source": [
    "# File `product_properties`"
   ]
  },
  {
   "cell_type": "markdown",
   "metadata": {},
   "source": [
    "First, lets take a look into basic products' statistics.\n",
    "Each product have four attributes:\n",
    "* sku (int64): numeric ID of the item\n",
    "* category (int64): numeric ID of the item category\n",
    "* price (int64): numeric ID of the item's price bucket, no the price itself\n",
    "* name (object): a textual embedding of a product name, compressed using the product quantization method"
   ]
  },
  {
   "cell_type": "code",
   "execution_count": 105,
   "metadata": {
    "ExecuteTime": {
     "end_time": "2025-03-20T19:03:19.176679Z",
     "start_time": "2025-03-20T19:03:19.077344Z"
    }
   },
   "outputs": [
    {
     "data": {
      "text/html": [
       "<div><style>\n",
       ".dataframe > thead > tr,\n",
       ".dataframe > tbody > tr {\n",
       "  text-align: right;\n",
       "  white-space: pre-wrap;\n",
       "}\n",
       "</style>\n",
       "<small>shape: (9, 5)</small><table border=\"1\" class=\"dataframe\"><thead><tr><th>statistic</th><th>sku</th><th>category</th><th>price</th><th>name</th></tr><tr><td>str</td><td>f64</td><td>f64</td><td>f64</td><td>str</td></tr></thead><tbody><tr><td>&quot;count&quot;</td><td>1.197634e6</td><td>1.197634e6</td><td>1.197634e6</td><td>&quot;1197634&quot;</td></tr><tr><td>&quot;null_count&quot;</td><td>0.0</td><td>0.0</td><td>0.0</td><td>&quot;0&quot;</td></tr><tr><td>&quot;mean&quot;</td><td>748283.428842</td><td>3497.911358</td><td>47.466395</td><td>null</td></tr><tr><td>&quot;std&quot;</td><td>431765.419146</td><td>1908.822438</td><td>27.894335</td><td>null</td></tr><tr><td>&quot;min&quot;</td><td>0.0</td><td>0.0</td><td>0.0</td><td>&quot;[&nbsp;&nbsp;0&nbsp;&nbsp;&nbsp;0&nbsp;&nbsp;28 150&nbsp;&nbsp;36&nbsp;&nbsp;36&nbsp;&nbsp;&nbsp;4&nbsp;&nbsp;…</td></tr><tr><td>&quot;25%&quot;</td><td>374395.0</td><td>1902.0</td><td>24.0</td><td>null</td></tr><tr><td>&quot;50%&quot;</td><td>748439.0</td><td>3378.0</td><td>45.0</td><td>null</td></tr><tr><td>&quot;75%&quot;</td><td>1.12245e6</td><td>5131.0</td><td>71.0</td><td>null</td></tr><tr><td>&quot;max&quot;</td><td>1.495777e6</td><td>6918.0</td><td>99.0</td><td>&quot;[99 76 14 39 39 96 73 96 39 39…</td></tr></tbody></table></div>"
      ],
      "text/plain": [
       "shape: (9, 5)\n",
       "┌────────────┬───────────────┬─────────────┬────────────┬─────────────────────────────────┐\n",
       "│ statistic  ┆ sku           ┆ category    ┆ price      ┆ name                            │\n",
       "│ ---        ┆ ---           ┆ ---         ┆ ---        ┆ ---                             │\n",
       "│ str        ┆ f64           ┆ f64         ┆ f64        ┆ str                             │\n",
       "╞════════════╪═══════════════╪═════════════╪════════════╪═════════════════════════════════╡\n",
       "│ count      ┆ 1.197634e6    ┆ 1.197634e6  ┆ 1.197634e6 ┆ 1197634                         │\n",
       "│ null_count ┆ 0.0           ┆ 0.0         ┆ 0.0        ┆ 0                               │\n",
       "│ mean       ┆ 748283.428842 ┆ 3497.911358 ┆ 47.466395  ┆ null                            │\n",
       "│ std        ┆ 431765.419146 ┆ 1908.822438 ┆ 27.894335  ┆ null                            │\n",
       "│ min        ┆ 0.0           ┆ 0.0         ┆ 0.0        ┆ [  0   0  28 150  36  36   4  … │\n",
       "│ 25%        ┆ 374395.0      ┆ 1902.0      ┆ 24.0       ┆ null                            │\n",
       "│ 50%        ┆ 748439.0      ┆ 3378.0      ┆ 45.0       ┆ null                            │\n",
       "│ 75%        ┆ 1.12245e6     ┆ 5131.0      ┆ 71.0       ┆ null                            │\n",
       "│ max        ┆ 1.495777e6    ┆ 6918.0      ┆ 99.0       ┆ [99 76 14 39 39 96 73 96 39 39… │\n",
       "└────────────┴───────────────┴─────────────┴────────────┴─────────────────────────────────┘"
      ]
     },
     "execution_count": 105,
     "metadata": {},
     "output_type": "execute_result"
    }
   ],
   "source": [
    "products = data[\"products\"][\"product_properties\"]\n",
    "products.describe()"
   ]
  },
  {
   "cell_type": "markdown",
   "metadata": {},
   "source": [
    "There is $1197634$ different products in total, splitted into $6918$ categories, and $99$ price buckets."
   ]
  },
  {
   "cell_type": "markdown",
   "metadata": {},
   "source": [
    "## Categories"
   ]
  },
  {
   "cell_type": "code",
   "execution_count": 106,
   "metadata": {
    "ExecuteTime": {
     "end_time": "2025-03-20T19:03:19.208790Z",
     "start_time": "2025-03-20T19:03:19.198888Z"
    }
   },
   "outputs": [],
   "source": [
    "categories = products.group_by(\"category\").agg(pl.len().alias(\"count\")).collect()"
   ]
  },
  {
   "cell_type": "code",
   "execution_count": 107,
   "metadata": {
    "ExecuteTime": {
     "end_time": "2025-03-20T19:03:19.230044Z",
     "start_time": "2025-03-20T19:03:19.226041Z"
    }
   },
   "outputs": [],
   "source": [
    "categories = categories.sort(pl.col(\"category\"))"
   ]
  },
  {
   "cell_type": "code",
   "execution_count": 108,
   "metadata": {
    "ExecuteTime": {
     "end_time": "2025-03-20T19:03:21.734691Z",
     "start_time": "2025-03-20T19:03:19.252998Z"
    }
   },
   "outputs": [
    {
     "data": {
      "image/png": "[encoded data removed]",
      "text/plain": [
       "<Figure size 1000x800 with 1 Axes>"
      ]
     },
     "metadata": {},
     "output_type": "display_data"
    }
   ],
   "source": [
    "plt.figure(figsize = (10,8))\n",
    "plt.bar(categories[\"category\"], categories[\"count\"])\n",
    "plt.yscale(\"log\")\n",
    "plt.xlabel(\"Category ID\")\n",
    "plt.ylabel(\"Products in category\")\n",
    "plt.title(\"Histogram of products in categories\")\n",
    "ax = plt.gca()\n",
    "ax.tick_params(direction=\"in\", axis=\"both\", which=\"both\")\n",
    "plt.show()"
   ]
  },
  {
   "cell_type": "markdown",
   "metadata": {},
   "source": [
    "## Prices"
   ]
  },
  {
   "cell_type": "code",
   "execution_count": 109,
   "metadata": {
    "ExecuteTime": {
     "end_time": "2025-03-20T19:03:21.750736Z",
     "start_time": "2025-03-20T19:03:21.734691Z"
    }
   },
   "outputs": [],
   "source": [
    "prices = products.group_by(\"price\").agg(pl.len().alias(\"count\")).collect()"
   ]
  },
  {
   "cell_type": "code",
   "execution_count": 110,
   "metadata": {
    "ExecuteTime": {
     "end_time": "2025-03-20T19:03:21.862080Z",
     "start_time": "2025-03-20T19:03:21.755996Z"
    }
   },
   "outputs": [
    {
     "data": {
      "image/png": "[encoded data removed]",
      "text/plain": [
       "<Figure size 1000x800 with 1 Axes>"
      ]
     },
     "metadata": {},
     "output_type": "display_data"
    }
   ],
   "source": [
    "plt.figure(figsize = (10,8))\n",
    "plt.bar(prices[\"price\"], prices[\"count\"])\n",
    "plt.yscale(\"log\")\n",
    "plt.xlabel(\"Price bucket\")\n",
    "plt.ylabel(\"Frequency\")\n",
    "plt.title(\"Distribution of price buckets\")\n",
    "ax = plt.gca()\n",
    "ax.tick_params(direction=\"in\", axis=\"both\", which=\"both\")\n",
    "plt.show()"
   ]
  },
  {
   "cell_type": "code",
   "execution_count": 111,
   "metadata": {
    "ExecuteTime": {
     "end_time": "2025-03-20T19:03:21.886986Z",
     "start_time": "2025-03-20T19:03:21.867088Z"
    }
   },
   "outputs": [
    {
     "data": {
      "text/html": [
       "<div><style>\n",
       ".dataframe > thead > tr,\n",
       ".dataframe > tbody > tr {\n",
       "  text-align: right;\n",
       "  white-space: pre-wrap;\n",
       "}\n",
       "</style>\n",
       "<small>shape: (2, 2)</small><table border=\"1\" class=\"dataframe\"><thead><tr><th>category</th><th>price</th></tr><tr><td>f64</td><td>f64</td></tr></thead><tbody><tr><td>1.0</td><td>0.001637</td></tr><tr><td>0.001637</td><td>1.0</td></tr></tbody></table></div>"
      ],
      "text/plain": [
       "shape: (2, 2)\n",
       "┌──────────┬──────────┐\n",
       "│ category ┆ price    │\n",
       "│ ---      ┆ ---      │\n",
       "│ f64      ┆ f64      │\n",
       "╞══════════╪══════════╡\n",
       "│ 1.0      ┆ 0.001637 │\n",
       "│ 0.001637 ┆ 1.0      │\n",
       "└──────────┴──────────┘"
      ]
     },
     "execution_count": 111,
     "metadata": {},
     "output_type": "execute_result"
    }
   ],
   "source": [
    "df = products.select(\"category\", \"price\").collect()\n",
    "df.corr()"
   ]
  },
  {
   "cell_type": "markdown",
   "metadata": {},
   "source": [
    "There is no correlation between product price and its category"
   ]
  },
  {
   "cell_type": "markdown",
   "metadata": {},
   "source": [
    "# File `product_buy`\n",
    "\n",
    "Now, take a look into sale of products\n",
    "In this file, each record have three attribute\n",
    "* `client_id` (int64): numeric ID of the client (system user)\n",
    "* `timestamp` (object): date and time of the event in the format YYYY-MM-DD HH:mm:ss (not used in this EDA)\n",
    "* `sku` (int64): numeric ID of the item\n"
   ]
  },
  {
   "cell_type": "code",
   "execution_count": 112,
   "metadata": {
    "ExecuteTime": {
     "end_time": "2025-03-20T19:03:21.941626Z",
     "start_time": "2025-03-20T19:03:21.909356Z"
    }
   },
   "outputs": [],
   "source": [
    "products_buy = data[\"events\"][\"product_buy\"]\n",
    "prices = products.group_by(\"sku\").agg(pl.len().alias(\"count\")).collect()"
   ]
  },
  {
   "cell_type": "code",
   "execution_count": 113,
   "metadata": {
    "ExecuteTime": {
     "end_time": "2025-03-20T19:03:22.011115Z",
     "start_time": "2025-03-20T19:03:21.956115Z"
    }
   },
   "outputs": [
    {
     "data": {
      "text/html": [
       "<div><style>\n",
       ".dataframe > thead > tr,\n",
       ".dataframe > tbody > tr {\n",
       "  text-align: right;\n",
       "  white-space: pre-wrap;\n",
       "}\n",
       "</style>\n",
       "<small>shape: (9, 4)</small><table border=\"1\" class=\"dataframe\"><thead><tr><th>statistic</th><th>client_id</th><th>timestamp</th><th>sku</th></tr><tr><td>str</td><td>f64</td><td>str</td><td>f64</td></tr></thead><tbody><tr><td>&quot;count&quot;</td><td>1.682296e6</td><td>&quot;1682296&quot;</td><td>1.682296e6</td></tr><tr><td>&quot;null_count&quot;</td><td>0.0</td><td>&quot;0&quot;</td><td>0.0</td></tr><tr><td>&quot;mean&quot;</td><td>1.1941e7</td><td>null</td><td>746549.671699</td></tr><tr><td>&quot;std&quot;</td><td>6.8918e6</td><td>null</td><td>433618.826745</td></tr><tr><td>&quot;min&quot;</td><td>14.0</td><td>&quot;2022-05-23 00:10:40&quot;</td><td>4.0</td></tr><tr><td>&quot;25%&quot;</td><td>5.964836e6</td><td>null</td><td>369890.0</td></tr><tr><td>&quot;50%&quot;</td><td>1.1924383e7</td><td>null</td><td>745837.0</td></tr><tr><td>&quot;75%&quot;</td><td>1.791873e7</td><td>null</td><td>1.121913e6</td></tr><tr><td>&quot;max&quot;</td><td>2.3875234e7</td><td>&quot;2022-10-10 23:59:25&quot;</td><td>1.495777e6</td></tr></tbody></table></div>"
      ],
      "text/plain": [
       "shape: (9, 4)\n",
       "┌────────────┬─────────────┬─────────────────────┬───────────────┐\n",
       "│ statistic  ┆ client_id   ┆ timestamp           ┆ sku           │\n",
       "│ ---        ┆ ---         ┆ ---                 ┆ ---           │\n",
       "│ str        ┆ f64         ┆ str                 ┆ f64           │\n",
       "╞════════════╪═════════════╪═════════════════════╪═══════════════╡\n",
       "│ count      ┆ 1.682296e6  ┆ 1682296             ┆ 1.682296e6    │\n",
       "│ null_count ┆ 0.0         ┆ 0                   ┆ 0.0           │\n",
       "│ mean       ┆ 1.1941e7    ┆ null                ┆ 746549.671699 │\n",
       "│ std        ┆ 6.8918e6    ┆ null                ┆ 433618.826745 │\n",
       "│ min        ┆ 14.0        ┆ 2022-05-23 00:10:40 ┆ 4.0           │\n",
       "│ 25%        ┆ 5.964836e6  ┆ null                ┆ 369890.0      │\n",
       "│ 50%        ┆ 1.1924383e7 ┆ null                ┆ 745837.0      │\n",
       "│ 75%        ┆ 1.791873e7  ┆ null                ┆ 1.121913e6    │\n",
       "│ max        ┆ 2.3875234e7 ┆ 2022-10-10 23:59:25 ┆ 1.495777e6    │\n",
       "└────────────┴─────────────┴─────────────────────┴───────────────┘"
      ]
     },
     "execution_count": 113,
     "metadata": {},
     "output_type": "execute_result"
    }
   ],
   "source": [
    "products_buy.describe()"
   ]
  },
  {
   "cell_type": "code",
   "execution_count": 134,
   "metadata": {
    "ExecuteTime": {
     "end_time": "2025-03-20T19:08:33.679586Z",
     "start_time": "2025-03-20T19:08:33.615165Z"
    }
   },
   "outputs": [
    {
     "data": {
      "text/plain": [
       "0.4234240176882086"
      ]
     },
     "execution_count": 134,
     "metadata": {},
     "output_type": "execute_result"
    }
   ],
   "source": [
    "products_buy.select(\"sku\").collect().unique().shape[0] / products.select(\"sku\").collect().unique().shape[0]"
   ]
  },
  {
   "cell_type": "code",
   "execution_count": null,
   "metadata": {},
   "outputs": [],
   "source": []
  },
  {
   "cell_type": "markdown",
   "metadata": {},
   "source": [
    "Group products to bin by: $\\text{bin} = \\lfloor \\frac{\\text{bought number}}{10}\\rfloor$, for items that were never bought $\\text{bin} = -1$"
   ]
  },
  {
   "cell_type": "code",
   "execution_count": 114,
   "metadata": {
    "ExecuteTime": {
     "end_time": "2025-03-20T19:03:22.033494Z",
     "start_time": "2025-03-20T19:03:22.030490Z"
    }
   },
   "outputs": [],
   "source": [
    "def assign_bin(value):\n",
    "    if value == 0:\n",
    "        return -1\n",
    "    return value // 10"
   ]
  },
  {
   "cell_type": "code",
   "execution_count": 144,
   "metadata": {
    "ExecuteTime": {
     "end_time": "2025-03-20T19:16:46.164339Z",
     "start_time": "2025-03-20T19:16:46.013272Z"
    }
   },
   "outputs": [],
   "source": [
    "sku = products_buy.select(\"sku\").collect()\n",
    "# max_sku = products.select(\"sku\").max().collect()[0, 0]\n",
    "sku = sku.group_by(\"sku\").agg(pl.len().alias(\"count\"))\n",
    "full_sku = products.select(\"sku\").collect()\n",
    "sku_full = pl.DataFrame({\"sku\": full_sku})\n",
    "sku = sku_full.join(sku, on=\"sku\", how=\"left\").fill_null(0)\n",
    "\n",
    "sku = sku.with_columns(\n",
    "    (pl.col(\"count\").map_elements(lambda x: assign_bin(x), return_dtype=pl.Int8)).alias(\"bin\")  # Create a new column for bin numbers\n",
    ")\n",
    "sku_grouped = sku.group_by(\"bin\").agg(pl.len().alias(\"frequency\"))\n",
    "sku_grouped = sku_grouped.sort(pl.col(\"bin\"))"
   ]
  },
  {
   "cell_type": "code",
   "execution_count": 145,
   "metadata": {
    "ExecuteTime": {
     "end_time": "2025-03-20T19:16:47.195693Z",
     "start_time": "2025-03-20T19:16:47.036450Z"
    }
   },
   "outputs": [
    {
     "data": {
      "image/png": "[encoded data removed]",
      "text/plain": [
       "<Figure size 1000x800 with 1 Axes>"
      ]
     },
     "metadata": {},
     "output_type": "display_data"
    }
   ],
   "source": [
    "plt.figure(figsize = (10,8))\n",
    "plt.bar(sku_grouped[\"bin\"], sku_grouped[\"frequency\"])\n",
    "plt.yscale(\"log\")\n",
    "plt.xlabel(\"Bin\")\n",
    "plt.ylabel(\"Frequency\")\n",
    "plt.title(\"Distribution of products bought\")\n",
    "ax = plt.gca()\n",
    "ax.tick_params(direction=\"in\", axis=\"both\", which=\"both\")\n",
    "plt.show()"
   ]
  },
  {
   "cell_type": "markdown",
   "metadata": {},
   "source": [
    "From all available products, $57.6\\%$ were never bought\n"
   ]
  },
  {
   "cell_type": "code",
   "execution_count": 146,
   "metadata": {
    "ExecuteTime": {
     "end_time": "2025-03-20T19:16:51.246474Z",
     "start_time": "2025-03-20T19:16:51.241114Z"
    }
   },
   "outputs": [
    {
     "data": {
      "text/plain": [
       "0.5765759823117914"
      ]
     },
     "execution_count": 146,
     "metadata": {},
     "output_type": "execute_result"
    }
   ],
   "source": [
    "sku_grouped[\"frequency\"][0] / sku_grouped[\"frequency\"].sum()"
   ]
  },
  {
   "cell_type": "code",
   "execution_count": 153,
   "metadata": {
    "ExecuteTime": {
     "end_time": "2025-03-20T19:17:59.572111Z",
     "start_time": "2025-03-20T19:17:59.560159Z"
    }
   },
   "outputs": [
    {
     "name": "stdout",
     "output_type": "stream",
     "text": [
      "0.02% were bought more than 200 times\n",
      "0.08% were bought more than 100 times\n",
      "0.25% were bought more than 50 times\n",
      "0.65% were bought more than 25 times\n",
      "1.88% were bought more than 10 times\n",
      "4.00% were bought more than 5 times\n",
      "19.40% were bought more than 1 times\n",
      "42.34% were bought more than 0 times\n"
     ]
    }
   ],
   "source": [
    "thresholds = [200, 100, 50, 25, 10, 5, 1, 0]\n",
    "\n",
    "for th in thresholds:\n",
    "    vv = sku.filter(\n",
    "        (pl.col(\"count\") > th)\n",
    "    )[\"count\"].len() / sku[\"count\"].len()\n",
    "\n",
    "    print(f\"{vv:.2%} were bought more than {th} times\")"
   ]
  },
  {
   "cell_type": "code",
   "execution_count": 154,
   "metadata": {
    "ExecuteTime": {
     "end_time": "2025-03-20T19:18:00.871577Z",
     "start_time": "2025-03-20T19:18:00.854609Z"
    }
   },
   "outputs": [
    {
     "data": {
      "text/html": [
       "<div><style>\n",
       ".dataframe > thead > tr,\n",
       ".dataframe > tbody > tr {\n",
       "  text-align: right;\n",
       "  white-space: pre-wrap;\n",
       "}\n",
       "</style>\n",
       "<small>shape: (9, 4)</small><table border=\"1\" class=\"dataframe\"><thead><tr><th>statistic</th><th>sku</th><th>count</th><th>bin</th></tr><tr><td>str</td><td>f64</td><td>f64</td><td>f64</td></tr></thead><tbody><tr><td>&quot;count&quot;</td><td>1.197634e6</td><td>1.197634e6</td><td>1.197634e6</td></tr><tr><td>&quot;null_count&quot;</td><td>0.0</td><td>0.0</td><td>0.0</td></tr><tr><td>&quot;mean&quot;</td><td>748283.428842</td><td>1.404683</td><td>-0.520918</td></tr><tr><td>&quot;std&quot;</td><td>431765.419146</td><td>7.878186</td><td>0.934094</td></tr><tr><td>&quot;min&quot;</td><td>0.0</td><td>0.0</td><td>-1.0</td></tr><tr><td>&quot;25%&quot;</td><td>374395.0</td><td>0.0</td><td>-1.0</td></tr><tr><td>&quot;50%&quot;</td><td>748439.0</td><td>0.0</td><td>-1.0</td></tr><tr><td>&quot;75%&quot;</td><td>1.12245e6</td><td>1.0</td><td>0.0</td></tr><tr><td>&quot;max&quot;</td><td>1.495777e6</td><td>1249.0</td><td>124.0</td></tr></tbody></table></div>"
      ],
      "text/plain": [
       "shape: (9, 4)\n",
       "┌────────────┬───────────────┬────────────┬────────────┐\n",
       "│ statistic  ┆ sku           ┆ count      ┆ bin        │\n",
       "│ ---        ┆ ---           ┆ ---        ┆ ---        │\n",
       "│ str        ┆ f64           ┆ f64        ┆ f64        │\n",
       "╞════════════╪═══════════════╪════════════╪════════════╡\n",
       "│ count      ┆ 1.197634e6    ┆ 1.197634e6 ┆ 1.197634e6 │\n",
       "│ null_count ┆ 0.0           ┆ 0.0        ┆ 0.0        │\n",
       "│ mean       ┆ 748283.428842 ┆ 1.404683   ┆ -0.520918  │\n",
       "│ std        ┆ 431765.419146 ┆ 7.878186   ┆ 0.934094   │\n",
       "│ min        ┆ 0.0           ┆ 0.0        ┆ -1.0       │\n",
       "│ 25%        ┆ 374395.0      ┆ 0.0        ┆ -1.0       │\n",
       "│ 50%        ┆ 748439.0      ┆ 0.0        ┆ -1.0       │\n",
       "│ 75%        ┆ 1.12245e6     ┆ 1.0        ┆ 0.0        │\n",
       "│ max        ┆ 1.495777e6    ┆ 1249.0     ┆ 124.0      │\n",
       "└────────────┴───────────────┴────────────┴────────────┘"
      ]
     },
     "execution_count": 154,
     "metadata": {},
     "output_type": "execute_result"
    }
   ],
   "source": [
    "sku.describe()"
   ]
  }
 ],
 "metadata": {
  "kernelspec": {
   "display_name": ".venv",
   "language": "python",
   "name": "python3"
  },
  "language_info": {
   "codemirror_mode": {
    "name": "ipython",
    "version": 3
   },
   "file_extension": ".py",
   "mimetype": "text/x-python",
   "name": "python",
   "nbconvert_exporter": "python",
   "pygments_lexer": "ipython3",
   "version": "3.12.3"
  }
 },
 "nbformat": 4,
 "nbformat_minor": 2
}

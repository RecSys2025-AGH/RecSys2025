{
 "cells": [
  {
   "cell_type": "code",
   "execution_count": 1,
   "id": "c8188dc7",
   "metadata": {},
   "outputs": [],
   "source": [
    "import polars as pl\n",
    "import numpy as np\n",
    "import data_actions.data_processing.utils as utils"
   ]
  },
  {
   "cell_type": "code",
   "execution_count": 2,
   "id": "fe3d5d51",
   "metadata": {},
   "outputs": [
    {
     "name": "stderr",
     "output_type": "stream",
     "text": [
      "c:\\Users\\Adam\\Pulpit\\STUDIA\\SEM6\\SP2\\RecSysMain\\RecSys2025\\data_actions\\data_processing\\utils.py:67: PerformanceWarning: Determining the column names of a LazyFrame requires resolving its schema, which is a potentially expensive operation. Use `LazyFrame.collect_schema().names()` to get the column names without this warning.\n",
      "  if \"timestamp\" in df.columns:\n"
     ]
    },
    {
     "data": {
      "text/html": [
       "<div><style>\n",
       ".dataframe > thead > tr,\n",
       ".dataframe > tbody > tr {\n",
       "  text-align: right;\n",
       "  white-space: pre-wrap;\n",
       "}\n",
       "</style>\n",
       "<small>shape: (5_235_882, 3)</small><table border=\"1\" class=\"dataframe\"><thead><tr><th>client_id</th><th>timestamp</th><th>sku</th></tr><tr><td>i64</td><td>datetime[μs]</td><td>i64</td></tr></thead><tbody><tr><td>17649961</td><td>2022-08-11 12:22:55</td><td>1398840</td></tr><tr><td>315805</td><td>2022-09-11 05:34:10</td><td>1434568</td></tr><tr><td>315805</td><td>2022-10-06 04:58:15</td><td>998226</td></tr><tr><td>16696114</td><td>2022-07-11 16:27:00</td><td>81192</td></tr><tr><td>10238779</td><td>2022-10-05 14:36:55</td><td>1475246</td></tr><tr><td>&hellip;</td><td>&hellip;</td><td>&hellip;</td></tr><tr><td>16225940</td><td>2022-10-10 16:07:50</td><td>498350</td></tr><tr><td>3850845</td><td>2022-06-12 16:13:59</td><td>1461294</td></tr><tr><td>12296853</td><td>2022-07-29 17:53:45</td><td>431834</td></tr><tr><td>12296853</td><td>2022-08-09 16:16:15</td><td>108846</td></tr><tr><td>12296853</td><td>2022-08-09 16:17:10</td><td>388840</td></tr></tbody></table></div>"
      ],
      "text/plain": [
       "shape: (5_235_882, 3)\n",
       "┌───────────┬─────────────────────┬─────────┐\n",
       "│ client_id ┆ timestamp           ┆ sku     │\n",
       "│ ---       ┆ ---                 ┆ ---     │\n",
       "│ i64       ┆ datetime[μs]        ┆ i64     │\n",
       "╞═══════════╪═════════════════════╪═════════╡\n",
       "│ 17649961  ┆ 2022-08-11 12:22:55 ┆ 1398840 │\n",
       "│ 315805    ┆ 2022-09-11 05:34:10 ┆ 1434568 │\n",
       "│ 315805    ┆ 2022-10-06 04:58:15 ┆ 998226  │\n",
       "│ 16696114  ┆ 2022-07-11 16:27:00 ┆ 81192   │\n",
       "│ 10238779  ┆ 2022-10-05 14:36:55 ┆ 1475246 │\n",
       "│ …         ┆ …                   ┆ …       │\n",
       "│ 16225940  ┆ 2022-10-10 16:07:50 ┆ 498350  │\n",
       "│ 3850845   ┆ 2022-06-12 16:13:59 ┆ 1461294 │\n",
       "│ 12296853  ┆ 2022-07-29 17:53:45 ┆ 431834  │\n",
       "│ 12296853  ┆ 2022-08-09 16:16:15 ┆ 108846  │\n",
       "│ 12296853  ┆ 2022-08-09 16:17:10 ┆ 388840  │\n",
       "└───────────┴─────────────────────┴─────────┘"
      ]
     },
     "execution_count": 2,
     "metadata": {},
     "output_type": "execute_result"
    }
   ],
   "source": [
    "data = utils.load_data(\"data/original_data\")\n",
    "data_cart = data[\"events\"][\"add_to_cart\"]\n",
    "data_cart.collect()"
   ]
  },
  {
   "cell_type": "code",
   "execution_count": null,
   "id": "7a48dd4b",
   "metadata": {},
   "outputs": [],
   "source": [
    "from collections import defaultdict\n",
    "\n",
    "k = 100\n",
    "\n",
    "# Sort data_cart by timestamp\n",
    "data_cart_chronological = data_cart.sort(\"timestamp\").collect()\n",
    "\n",
    "# Mapa klient -> lista sku\n",
    "client_skus = defaultdict(list)\n",
    "\n",
    "for row in data_cart_chronological.iter_rows(named=True):\n",
    "    client_id = row[\"client_id\"]\n",
    "    sku = row[\"sku\"]\n",
    "    if len(client_skus[client_id]) < k:\n",
    "        client_skus[client_id].append(sku)\n",
    "\n",
    "# Zamień na listę słowników z kolumnami sku_0, sku_1, ..., sku_{k-1}\n",
    "rows = []\n",
    "for client_id, skus in client_skus.items():\n",
    "    row = {\"client_id\": client_id}\n",
    "    for i, sku in enumerate(skus):\n",
    "        row[f\"sku_{i}\"] = sku\n",
    "    rows.append(row)\n",
    "\n",
    "# Utwórz DataFrame\n",
    "V = pl.DataFrame(rows)\n"
   ]
  },
  {
   "cell_type": "code",
   "execution_count": null,
   "id": "90b39f11",
   "metadata": {},
   "outputs": [],
   "source": []
  }
 ],
 "metadata": {
  "kernelspec": {
   "display_name": ".venv",
   "language": "python",
   "name": "python3"
  },
  "language_info": {
   "codemirror_mode": {
    "name": "ipython",
    "version": 3
   },
   "file_extension": ".py",
   "mimetype": "text/x-python",
   "name": "python",
   "nbconvert_exporter": "python",
   "pygments_lexer": "ipython3",
   "version": "3.12.5"
  }
 },
 "nbformat": 4,
 "nbformat_minor": 5
}

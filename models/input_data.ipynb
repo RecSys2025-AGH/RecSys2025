{
 "cells": [
  {
   "cell_type": "code",
   "execution_count": 1,
   "id": "c8188dc7",
   "metadata": {},
   "outputs": [],
   "source": [
    "import polars as pl\n",
    "import numpy as np\n",
    "import data_actions.data_processing.utils as utils"
   ]
  },
  {
   "cell_type": "code",
   "execution_count": 2,
   "id": "fe3d5d51",
   "metadata": {},
   "outputs": [
    {
     "name": "stderr",
     "output_type": "stream",
     "text": [
      "/home/adam/python-projects/recsys25/data_actions/data_processing/utils.py:67: PerformanceWarning: Determining the column names of a LazyFrame requires resolving its schema, which is a potentially expensive operation. Use `LazyFrame.collect_schema().names()` to get the column names without this warning.\n",
      "  if \"timestamp\" in df.columns:\n"
     ]
    },
    {
     "data": {
      "text/html": [
       "<div><style>\n",
       ".dataframe > thead > tr,\n",
       ".dataframe > tbody > tr {\n",
       "  text-align: right;\n",
       "  white-space: pre-wrap;\n",
       "}\n",
       "</style>\n",
       "<small>shape: (5_235_882, 3)</small><table border=\"1\" class=\"dataframe\"><thead><tr><th>client_id</th><th>timestamp</th><th>sku</th></tr><tr><td>i64</td><td>datetime[μs]</td><td>i64</td></tr></thead><tbody><tr><td>17649961</td><td>2022-08-11 12:22:55</td><td>1398840</td></tr><tr><td>315805</td><td>2022-09-11 05:34:10</td><td>1434568</td></tr><tr><td>315805</td><td>2022-10-06 04:58:15</td><td>998226</td></tr><tr><td>16696114</td><td>2022-07-11 16:27:00</td><td>81192</td></tr><tr><td>10238779</td><td>2022-10-05 14:36:55</td><td>1475246</td></tr><tr><td>&hellip;</td><td>&hellip;</td><td>&hellip;</td></tr><tr><td>16225940</td><td>2022-10-10 16:07:50</td><td>498350</td></tr><tr><td>3850845</td><td>2022-06-12 16:13:59</td><td>1461294</td></tr><tr><td>12296853</td><td>2022-07-29 17:53:45</td><td>431834</td></tr><tr><td>12296853</td><td>2022-08-09 16:16:15</td><td>108846</td></tr><tr><td>12296853</td><td>2022-08-09 16:17:10</td><td>388840</td></tr></tbody></table></div>"
      ],
      "text/plain": [
       "shape: (5_235_882, 3)\n",
       "┌───────────┬─────────────────────┬─────────┐\n",
       "│ client_id ┆ timestamp           ┆ sku     │\n",
       "│ ---       ┆ ---                 ┆ ---     │\n",
       "│ i64       ┆ datetime[μs]        ┆ i64     │\n",
       "╞═══════════╪═════════════════════╪═════════╡\n",
       "│ 17649961  ┆ 2022-08-11 12:22:55 ┆ 1398840 │\n",
       "│ 315805    ┆ 2022-09-11 05:34:10 ┆ 1434568 │\n",
       "│ 315805    ┆ 2022-10-06 04:58:15 ┆ 998226  │\n",
       "│ 16696114  ┆ 2022-07-11 16:27:00 ┆ 81192   │\n",
       "│ 10238779  ┆ 2022-10-05 14:36:55 ┆ 1475246 │\n",
       "│ …         ┆ …                   ┆ …       │\n",
       "│ 16225940  ┆ 2022-10-10 16:07:50 ┆ 498350  │\n",
       "│ 3850845   ┆ 2022-06-12 16:13:59 ┆ 1461294 │\n",
       "│ 12296853  ┆ 2022-07-29 17:53:45 ┆ 431834  │\n",
       "│ 12296853  ┆ 2022-08-09 16:16:15 ┆ 108846  │\n",
       "│ 12296853  ┆ 2022-08-09 16:17:10 ┆ 388840  │\n",
       "└───────────┴─────────────────────┴─────────┘"
      ]
     },
     "execution_count": 2,
     "metadata": {},
     "output_type": "execute_result"
    }
   ],
   "source": [
    "data = utils.load_data(\"data/original_data\")\n",
    "data_cart = data[\"events\"][\"add_to_cart\"]\n",
    "data_cart.collect()"
   ]
  },
  {
   "cell_type": "code",
   "execution_count": 3,
   "id": "7a48dd4b",
   "metadata": {},
   "outputs": [],
   "source": [
    "from collections import defaultdict\n",
    "\n",
    "k = 100\n",
    "\n",
    "# Sort data_cart by timestamp\n",
    "data_cart_chronological = data_cart.sort(\"timestamp\").collect()\n",
    "\n",
    "# Mapa klient -> lista sku\n",
    "client_skus = defaultdict(list)\n",
    "\n",
    "for row in data_cart_chronological.iter_rows(named=True):\n",
    "    client_id = row[\"client_id\"]\n",
    "    sku = row[\"sku\"]\n",
    "    if len(client_skus[client_id]) < k:\n",
    "        client_skus[client_id].append(sku)\n",
    "\n",
    "# Zamień na listę słowników z kolumnami sku_0, sku_1, ..., sku_{k-1}\n",
    "rows = []\n",
    "for client_id, skus in client_skus.items():\n",
    "    row = {\"client_id\": client_id}\n",
    "    for i, sku in enumerate(skus):\n",
    "        row[f\"sku_{i}\"] = sku\n",
    "    rows.append(row)\n",
    "\n",
    "# Utwórz DataFrame\n",
    "V = pl.DataFrame(rows)\n"
   ]
  },
  {
   "cell_type": "code",
   "execution_count": 4,
   "id": "90b39f11",
   "metadata": {},
   "outputs": [
    {
     "data": {
      "text/html": [
       "<div><style>\n",
       ".dataframe > thead > tr,\n",
       ".dataframe > tbody > tr {\n",
       "  text-align: right;\n",
       "  white-space: pre-wrap;\n",
       "}\n",
       "</style>\n",
       "<small>shape: (1_874_391, 101)</small><table border=\"1\" class=\"dataframe\"><thead><tr><th>client_id</th><th>sku_0</th><th>sku_1</th><th>sku_2</th><th>sku_3</th><th>sku_4</th><th>sku_5</th><th>sku_6</th><th>sku_7</th><th>sku_8</th><th>sku_9</th><th>sku_10</th><th>sku_11</th><th>sku_12</th><th>sku_13</th><th>sku_14</th><th>sku_15</th><th>sku_16</th><th>sku_17</th><th>sku_18</th><th>sku_19</th><th>sku_20</th><th>sku_21</th><th>sku_22</th><th>sku_23</th><th>sku_24</th><th>sku_25</th><th>sku_26</th><th>sku_27</th><th>sku_28</th><th>sku_29</th><th>sku_30</th><th>sku_31</th><th>sku_32</th><th>sku_33</th><th>sku_34</th><th>sku_35</th><th>&hellip;</th><th>sku_63</th><th>sku_64</th><th>sku_65</th><th>sku_66</th><th>sku_67</th><th>sku_68</th><th>sku_69</th><th>sku_70</th><th>sku_71</th><th>sku_72</th><th>sku_73</th><th>sku_74</th><th>sku_75</th><th>sku_76</th><th>sku_77</th><th>sku_78</th><th>sku_79</th><th>sku_80</th><th>sku_81</th><th>sku_82</th><th>sku_83</th><th>sku_84</th><th>sku_85</th><th>sku_86</th><th>sku_87</th><th>sku_88</th><th>sku_89</th><th>sku_90</th><th>sku_91</th><th>sku_92</th><th>sku_93</th><th>sku_94</th><th>sku_95</th><th>sku_96</th><th>sku_97</th><th>sku_98</th><th>sku_99</th></tr><tr><td>i64</td><td>i64</td><td>i64</td><td>i64</td><td>i64</td><td>i64</td><td>i64</td><td>i64</td><td>i64</td><td>i64</td><td>i64</td><td>i64</td><td>i64</td><td>i64</td><td>i64</td><td>i64</td><td>i64</td><td>i64</td><td>i64</td><td>i64</td><td>i64</td><td>i64</td><td>i64</td><td>i64</td><td>i64</td><td>i64</td><td>i64</td><td>i64</td><td>i64</td><td>i64</td><td>i64</td><td>i64</td><td>i64</td><td>i64</td><td>i64</td><td>i64</td><td>i64</td><td>&hellip;</td><td>i64</td><td>i64</td><td>i64</td><td>i64</td><td>i64</td><td>i64</td><td>i64</td><td>i64</td><td>i64</td><td>i64</td><td>i64</td><td>i64</td><td>i64</td><td>i64</td><td>i64</td><td>i64</td><td>i64</td><td>i64</td><td>i64</td><td>i64</td><td>i64</td><td>i64</td><td>i64</td><td>i64</td><td>i64</td><td>i64</td><td>i64</td><td>i64</td><td>i64</td><td>i64</td><td>i64</td><td>i64</td><td>i64</td><td>i64</td><td>i64</td><td>i64</td><td>i64</td></tr></thead><tbody><tr><td>21033801</td><td>176746</td><td>743987</td><td>449567</td><td>1221307</td><td>739980</td><td>147793</td><td>968890</td><td>282541</td><td>465709</td><td>449567</td><td>1389605</td><td>1046080</td><td>579613</td><td>579613</td><td>594628</td><td>147793</td><td>1482453</td><td>147793</td><td>1482453</td><td>1477516</td><td>147793</td><td>1482453</td><td>282541</td><td>859298</td><td>1362002</td><td>1094946</td><td>1370849</td><td>1452470</td><td>671008</td><td>1444488</td><td>594043</td><td>597851</td><td>824778</td><td>282541</td><td>450510</td><td>488348</td><td>&hellip;</td><td>null</td><td>null</td><td>null</td><td>null</td><td>null</td><td>null</td><td>null</td><td>null</td><td>null</td><td>null</td><td>null</td><td>null</td><td>null</td><td>null</td><td>null</td><td>null</td><td>null</td><td>null</td><td>null</td><td>null</td><td>null</td><td>null</td><td>null</td><td>null</td><td>null</td><td>null</td><td>null</td><td>null</td><td>null</td><td>null</td><td>null</td><td>null</td><td>null</td><td>null</td><td>null</td><td>null</td><td>null</td></tr><tr><td>22958544</td><td>1116672</td><td>null</td><td>null</td><td>null</td><td>null</td><td>null</td><td>null</td><td>null</td><td>null</td><td>null</td><td>null</td><td>null</td><td>null</td><td>null</td><td>null</td><td>null</td><td>null</td><td>null</td><td>null</td><td>null</td><td>null</td><td>null</td><td>null</td><td>null</td><td>null</td><td>null</td><td>null</td><td>null</td><td>null</td><td>null</td><td>null</td><td>null</td><td>null</td><td>null</td><td>null</td><td>null</td><td>&hellip;</td><td>null</td><td>null</td><td>null</td><td>null</td><td>null</td><td>null</td><td>null</td><td>null</td><td>null</td><td>null</td><td>null</td><td>null</td><td>null</td><td>null</td><td>null</td><td>null</td><td>null</td><td>null</td><td>null</td><td>null</td><td>null</td><td>null</td><td>null</td><td>null</td><td>null</td><td>null</td><td>null</td><td>null</td><td>null</td><td>null</td><td>null</td><td>null</td><td>null</td><td>null</td><td>null</td><td>null</td><td>null</td></tr><tr><td>1183278</td><td>1311713</td><td>985371</td><td>null</td><td>null</td><td>null</td><td>null</td><td>null</td><td>null</td><td>null</td><td>null</td><td>null</td><td>null</td><td>null</td><td>null</td><td>null</td><td>null</td><td>null</td><td>null</td><td>null</td><td>null</td><td>null</td><td>null</td><td>null</td><td>null</td><td>null</td><td>null</td><td>null</td><td>null</td><td>null</td><td>null</td><td>null</td><td>null</td><td>null</td><td>null</td><td>null</td><td>null</td><td>&hellip;</td><td>null</td><td>null</td><td>null</td><td>null</td><td>null</td><td>null</td><td>null</td><td>null</td><td>null</td><td>null</td><td>null</td><td>null</td><td>null</td><td>null</td><td>null</td><td>null</td><td>null</td><td>null</td><td>null</td><td>null</td><td>null</td><td>null</td><td>null</td><td>null</td><td>null</td><td>null</td><td>null</td><td>null</td><td>null</td><td>null</td><td>null</td><td>null</td><td>null</td><td>null</td><td>null</td><td>null</td><td>null</td></tr><tr><td>3403615</td><td>32189</td><td>1388714</td><td>971353</td><td>null</td><td>null</td><td>null</td><td>null</td><td>null</td><td>null</td><td>null</td><td>null</td><td>null</td><td>null</td><td>null</td><td>null</td><td>null</td><td>null</td><td>null</td><td>null</td><td>null</td><td>null</td><td>null</td><td>null</td><td>null</td><td>null</td><td>null</td><td>null</td><td>null</td><td>null</td><td>null</td><td>null</td><td>null</td><td>null</td><td>null</td><td>null</td><td>null</td><td>&hellip;</td><td>null</td><td>null</td><td>null</td><td>null</td><td>null</td><td>null</td><td>null</td><td>null</td><td>null</td><td>null</td><td>null</td><td>null</td><td>null</td><td>null</td><td>null</td><td>null</td><td>null</td><td>null</td><td>null</td><td>null</td><td>null</td><td>null</td><td>null</td><td>null</td><td>null</td><td>null</td><td>null</td><td>null</td><td>null</td><td>null</td><td>null</td><td>null</td><td>null</td><td>null</td><td>null</td><td>null</td><td>null</td></tr><tr><td>18592960</td><td>359186</td><td>null</td><td>null</td><td>null</td><td>null</td><td>null</td><td>null</td><td>null</td><td>null</td><td>null</td><td>null</td><td>null</td><td>null</td><td>null</td><td>null</td><td>null</td><td>null</td><td>null</td><td>null</td><td>null</td><td>null</td><td>null</td><td>null</td><td>null</td><td>null</td><td>null</td><td>null</td><td>null</td><td>null</td><td>null</td><td>null</td><td>null</td><td>null</td><td>null</td><td>null</td><td>null</td><td>&hellip;</td><td>null</td><td>null</td><td>null</td><td>null</td><td>null</td><td>null</td><td>null</td><td>null</td><td>null</td><td>null</td><td>null</td><td>null</td><td>null</td><td>null</td><td>null</td><td>null</td><td>null</td><td>null</td><td>null</td><td>null</td><td>null</td><td>null</td><td>null</td><td>null</td><td>null</td><td>null</td><td>null</td><td>null</td><td>null</td><td>null</td><td>null</td><td>null</td><td>null</td><td>null</td><td>null</td><td>null</td><td>null</td></tr><tr><td>&hellip;</td><td>&hellip;</td><td>&hellip;</td><td>&hellip;</td><td>&hellip;</td><td>&hellip;</td><td>&hellip;</td><td>&hellip;</td><td>&hellip;</td><td>&hellip;</td><td>&hellip;</td><td>&hellip;</td><td>&hellip;</td><td>&hellip;</td><td>&hellip;</td><td>&hellip;</td><td>&hellip;</td><td>&hellip;</td><td>&hellip;</td><td>&hellip;</td><td>&hellip;</td><td>&hellip;</td><td>&hellip;</td><td>&hellip;</td><td>&hellip;</td><td>&hellip;</td><td>&hellip;</td><td>&hellip;</td><td>&hellip;</td><td>&hellip;</td><td>&hellip;</td><td>&hellip;</td><td>&hellip;</td><td>&hellip;</td><td>&hellip;</td><td>&hellip;</td><td>&hellip;</td><td>&hellip;</td><td>&hellip;</td><td>&hellip;</td><td>&hellip;</td><td>&hellip;</td><td>&hellip;</td><td>&hellip;</td><td>&hellip;</td><td>&hellip;</td><td>&hellip;</td><td>&hellip;</td><td>&hellip;</td><td>&hellip;</td><td>&hellip;</td><td>&hellip;</td><td>&hellip;</td><td>&hellip;</td><td>&hellip;</td><td>&hellip;</td><td>&hellip;</td><td>&hellip;</td><td>&hellip;</td><td>&hellip;</td><td>&hellip;</td><td>&hellip;</td><td>&hellip;</td><td>&hellip;</td><td>&hellip;</td><td>&hellip;</td><td>&hellip;</td><td>&hellip;</td><td>&hellip;</td><td>&hellip;</td><td>&hellip;</td><td>&hellip;</td><td>&hellip;</td><td>&hellip;</td><td>&hellip;</td></tr><tr><td>403369</td><td>378558</td><td>null</td><td>null</td><td>null</td><td>null</td><td>null</td><td>null</td><td>null</td><td>null</td><td>null</td><td>null</td><td>null</td><td>null</td><td>null</td><td>null</td><td>null</td><td>null</td><td>null</td><td>null</td><td>null</td><td>null</td><td>null</td><td>null</td><td>null</td><td>null</td><td>null</td><td>null</td><td>null</td><td>null</td><td>null</td><td>null</td><td>null</td><td>null</td><td>null</td><td>null</td><td>null</td><td>&hellip;</td><td>null</td><td>null</td><td>null</td><td>null</td><td>null</td><td>null</td><td>null</td><td>null</td><td>null</td><td>null</td><td>null</td><td>null</td><td>null</td><td>null</td><td>null</td><td>null</td><td>null</td><td>null</td><td>null</td><td>null</td><td>null</td><td>null</td><td>null</td><td>null</td><td>null</td><td>null</td><td>null</td><td>null</td><td>null</td><td>null</td><td>null</td><td>null</td><td>null</td><td>null</td><td>null</td><td>null</td><td>null</td></tr><tr><td>8380305</td><td>1466277</td><td>null</td><td>null</td><td>null</td><td>null</td><td>null</td><td>null</td><td>null</td><td>null</td><td>null</td><td>null</td><td>null</td><td>null</td><td>null</td><td>null</td><td>null</td><td>null</td><td>null</td><td>null</td><td>null</td><td>null</td><td>null</td><td>null</td><td>null</td><td>null</td><td>null</td><td>null</td><td>null</td><td>null</td><td>null</td><td>null</td><td>null</td><td>null</td><td>null</td><td>null</td><td>null</td><td>&hellip;</td><td>null</td><td>null</td><td>null</td><td>null</td><td>null</td><td>null</td><td>null</td><td>null</td><td>null</td><td>null</td><td>null</td><td>null</td><td>null</td><td>null</td><td>null</td><td>null</td><td>null</td><td>null</td><td>null</td><td>null</td><td>null</td><td>null</td><td>null</td><td>null</td><td>null</td><td>null</td><td>null</td><td>null</td><td>null</td><td>null</td><td>null</td><td>null</td><td>null</td><td>null</td><td>null</td><td>null</td><td>null</td></tr><tr><td>726161</td><td>806607</td><td>null</td><td>null</td><td>null</td><td>null</td><td>null</td><td>null</td><td>null</td><td>null</td><td>null</td><td>null</td><td>null</td><td>null</td><td>null</td><td>null</td><td>null</td><td>null</td><td>null</td><td>null</td><td>null</td><td>null</td><td>null</td><td>null</td><td>null</td><td>null</td><td>null</td><td>null</td><td>null</td><td>null</td><td>null</td><td>null</td><td>null</td><td>null</td><td>null</td><td>null</td><td>null</td><td>&hellip;</td><td>null</td><td>null</td><td>null</td><td>null</td><td>null</td><td>null</td><td>null</td><td>null</td><td>null</td><td>null</td><td>null</td><td>null</td><td>null</td><td>null</td><td>null</td><td>null</td><td>null</td><td>null</td><td>null</td><td>null</td><td>null</td><td>null</td><td>null</td><td>null</td><td>null</td><td>null</td><td>null</td><td>null</td><td>null</td><td>null</td><td>null</td><td>null</td><td>null</td><td>null</td><td>null</td><td>null</td><td>null</td></tr><tr><td>22863641</td><td>644325</td><td>886445</td><td>338379</td><td>null</td><td>null</td><td>null</td><td>null</td><td>null</td><td>null</td><td>null</td><td>null</td><td>null</td><td>null</td><td>null</td><td>null</td><td>null</td><td>null</td><td>null</td><td>null</td><td>null</td><td>null</td><td>null</td><td>null</td><td>null</td><td>null</td><td>null</td><td>null</td><td>null</td><td>null</td><td>null</td><td>null</td><td>null</td><td>null</td><td>null</td><td>null</td><td>null</td><td>&hellip;</td><td>null</td><td>null</td><td>null</td><td>null</td><td>null</td><td>null</td><td>null</td><td>null</td><td>null</td><td>null</td><td>null</td><td>null</td><td>null</td><td>null</td><td>null</td><td>null</td><td>null</td><td>null</td><td>null</td><td>null</td><td>null</td><td>null</td><td>null</td><td>null</td><td>null</td><td>null</td><td>null</td><td>null</td><td>null</td><td>null</td><td>null</td><td>null</td><td>null</td><td>null</td><td>null</td><td>null</td><td>null</td></tr><tr><td>11609578</td><td>228035</td><td>228035</td><td>228035</td><td>null</td><td>null</td><td>null</td><td>null</td><td>null</td><td>null</td><td>null</td><td>null</td><td>null</td><td>null</td><td>null</td><td>null</td><td>null</td><td>null</td><td>null</td><td>null</td><td>null</td><td>null</td><td>null</td><td>null</td><td>null</td><td>null</td><td>null</td><td>null</td><td>null</td><td>null</td><td>null</td><td>null</td><td>null</td><td>null</td><td>null</td><td>null</td><td>null</td><td>&hellip;</td><td>null</td><td>null</td><td>null</td><td>null</td><td>null</td><td>null</td><td>null</td><td>null</td><td>null</td><td>null</td><td>null</td><td>null</td><td>null</td><td>null</td><td>null</td><td>null</td><td>null</td><td>null</td><td>null</td><td>null</td><td>null</td><td>null</td><td>null</td><td>null</td><td>null</td><td>null</td><td>null</td><td>null</td><td>null</td><td>null</td><td>null</td><td>null</td><td>null</td><td>null</td><td>null</td><td>null</td><td>null</td></tr></tbody></table></div>"
      ],
      "text/plain": [
       "shape: (1_874_391, 101)\n",
       "┌───────────┬─────────┬─────────┬────────┬───┬────────┬────────┬────────┬────────┐\n",
       "│ client_id ┆ sku_0   ┆ sku_1   ┆ sku_2  ┆ … ┆ sku_96 ┆ sku_97 ┆ sku_98 ┆ sku_99 │\n",
       "│ ---       ┆ ---     ┆ ---     ┆ ---    ┆   ┆ ---    ┆ ---    ┆ ---    ┆ ---    │\n",
       "│ i64       ┆ i64     ┆ i64     ┆ i64    ┆   ┆ i64    ┆ i64    ┆ i64    ┆ i64    │\n",
       "╞═══════════╪═════════╪═════════╪════════╪═══╪════════╪════════╪════════╪════════╡\n",
       "│ 21033801  ┆ 176746  ┆ 743987  ┆ 449567 ┆ … ┆ null   ┆ null   ┆ null   ┆ null   │\n",
       "│ 22958544  ┆ 1116672 ┆ null    ┆ null   ┆ … ┆ null   ┆ null   ┆ null   ┆ null   │\n",
       "│ 1183278   ┆ 1311713 ┆ 985371  ┆ null   ┆ … ┆ null   ┆ null   ┆ null   ┆ null   │\n",
       "│ 3403615   ┆ 32189   ┆ 1388714 ┆ 971353 ┆ … ┆ null   ┆ null   ┆ null   ┆ null   │\n",
       "│ 18592960  ┆ 359186  ┆ null    ┆ null   ┆ … ┆ null   ┆ null   ┆ null   ┆ null   │\n",
       "│ …         ┆ …       ┆ …       ┆ …      ┆ … ┆ …      ┆ …      ┆ …      ┆ …      │\n",
       "│ 403369    ┆ 378558  ┆ null    ┆ null   ┆ … ┆ null   ┆ null   ┆ null   ┆ null   │\n",
       "│ 8380305   ┆ 1466277 ┆ null    ┆ null   ┆ … ┆ null   ┆ null   ┆ null   ┆ null   │\n",
       "│ 726161    ┆ 806607  ┆ null    ┆ null   ┆ … ┆ null   ┆ null   ┆ null   ┆ null   │\n",
       "│ 22863641  ┆ 644325  ┆ 886445  ┆ 338379 ┆ … ┆ null   ┆ null   ┆ null   ┆ null   │\n",
       "│ 11609578  ┆ 228035  ┆ 228035  ┆ 228035 ┆ … ┆ null   ┆ null   ┆ null   ┆ null   │\n",
       "└───────────┴─────────┴─────────┴────────┴───┴────────┴────────┴────────┴────────┘"
      ]
     },
     "execution_count": 4,
     "metadata": {},
     "output_type": "execute_result"
    }
   ],
   "source": [
    "V"
   ]
  },
  {
   "cell_type": "code",
   "execution_count": 7,
   "id": "d80d8681",
   "metadata": {},
   "outputs": [],
   "source": [
    "target = pl.read_parquet(\"data/original_data/target/train_target.parquet\")"
   ]
  },
  {
   "cell_type": "code",
   "execution_count": 18,
   "id": "36a3a627",
   "metadata": {},
   "outputs": [],
   "source": [
    "def create_inputs(target):\n",
    "    \"\"\"inputs creation\n",
    "\n",
    "    Args:\n",
    "        target (pl.DataFrame): train_target dataframe\n",
    "    \"\"\"\n",
    "    target.sort(\"timestamp\")\n",
    "    inputs = defaultdict(list)\n",
    "    for row in target.iter_rows(named=True):\n",
    "        client_id = row[\"client_id\"]\n",
    "        sku = row[\"sku\"]\n",
    "        inputs[client_id].append(sku)\n",
    "\n",
    "    for client in inputs:\n",
    "        inputs[client].append(-1)\n",
    "\n",
    "\n",
    "    clients, inputs = zip(*inputs.items())\n",
    "    return clients, inputs"
   ]
  },
  {
   "cell_type": "code",
   "execution_count": 15,
   "id": "249e86a2",
   "metadata": {},
   "outputs": [],
   "source": [
    "clients, inputs = create_inputs(target)"
   ]
  },
  {
   "cell_type": "code",
   "execution_count": null,
   "id": "25ba45f6",
   "metadata": {},
   "outputs": [],
   "source": []
  }
 ],
 "metadata": {
  "kernelspec": {
   "display_name": ".venv",
   "language": "python",
   "name": "python3"
  },
  "language_info": {
   "codemirror_mode": {
    "name": "ipython",
    "version": 3
   },
   "file_extension": ".py",
   "mimetype": "text/x-python",
   "name": "python",
   "nbconvert_exporter": "python",
   "pygments_lexer": "ipython3",
   "version": "3.12.3"
  }
 },
 "nbformat": 4,
 "nbformat_minor": 5
}

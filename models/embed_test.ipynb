{
 "cells": [
  {
   "cell_type": "code",
   "execution_count": 1,
   "id": "57933371",
   "metadata": {},
   "outputs": [],
   "source": [
    "import polars as pl\n",
    "import numpy as np\n",
    "import data_actions.data_processing.utils as utils"
   ]
  },
  {
   "cell_type": "code",
   "execution_count": 6,
   "id": "1f3b1089",
   "metadata": {},
   "outputs": [
    {
     "data": {
      "text/plain": [
       "memmap([      14,       28,       70, ..., 23245750, 23442668, 23443916],\n",
       "       shape=(858489,))"
      ]
     },
     "execution_count": 6,
     "metadata": {},
     "output_type": "execute_result"
    }
   ],
   "source": [
    "embeddings_dir  = \"data/embed\"\n",
    "clients = np.load(f\"{embeddings_dir}/client_ids.npy\", mmap_mode=\"r\")\n",
    "clients"
   ]
  },
  {
   "cell_type": "code",
   "execution_count": 7,
   "id": "32997d5d",
   "metadata": {},
   "outputs": [
    {
     "data": {
      "text/plain": [
       "memmap([[  2. ,   0. ,   0. , ...,   0. ,   0. ,   0. ],\n",
       "        [  1. ,   0. ,   0. , ...,   0. ,   0. ,   0. ],\n",
       "        [  1. ,   0. ,   0. , ...,   0. ,   0. ,   0. ],\n",
       "        ...,\n",
       "        [  0. ,   0. ,   0. , ...,  63. , 166. ,  46. ],\n",
       "        [  0. ,   0. ,   0. , ...,  63. , 166. ,  46. ],\n",
       "        [  0. ,   0. ,   0. , ..., 158.9, 156. , 190.4]],\n",
       "       shape=(858489, 320), dtype=float16)"
      ]
     },
     "execution_count": 7,
     "metadata": {},
     "output_type": "execute_result"
    }
   ],
   "source": [
    "embeddings = np.load(f\"{embeddings_dir}/embeddings.npy\", mmap_mode=\"r\")\n",
    "embeddings"
   ]
  },
  {
   "cell_type": "code",
   "execution_count": null,
   "id": "5fa88609",
   "metadata": {},
   "outputs": [],
   "source": [
    "np.isin()"
   ]
  }
 ],
 "metadata": {
  "kernelspec": {
   "display_name": ".venv",
   "language": "python",
   "name": "python3"
  },
  "language_info": {
   "codemirror_mode": {
    "name": "ipython",
    "version": 3
   },
   "file_extension": ".py",
   "mimetype": "text/x-python",
   "name": "python",
   "nbconvert_exporter": "python",
   "pygments_lexer": "ipython3",
   "version": "3.12.5"
  }
 },
 "nbformat": 4,
 "nbformat_minor": 5
}
